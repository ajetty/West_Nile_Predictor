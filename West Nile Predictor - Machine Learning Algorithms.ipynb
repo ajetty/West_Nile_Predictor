{
 "cells": [
  {
   "cell_type": "code",
   "execution_count": 1,
   "metadata": {},
   "outputs": [],
   "source": [
    "%matplotlib inline\n",
    "from sklearn.linear_model import LogisticRegression\n",
    "from sklearn.cluster import KMeans\n",
    "from sklearn.model_selection import train_test_split\n",
    "from sklearn.metrics import accuracy_score\n",
    "from sklearn.model_selection import cross_val_score\n",
    "from sklearn import metrics\n",
    "import matplotlib.pyplot as plt\n",
    "import numpy as np\n",
    "import pandas as pd\n",
    "from sklearn import preprocessing\n",
    "import datetime\n",
    "from sklearn import metrics\n",
    "from sklearn.linear_model import LinearRegression\n",
    "import operator\n",
    "from numpy import sqrt\n",
    "from sklearn.metrics import mean_squared_error\n",
    "from sklearn.tree import DecisionTreeClassifier\n",
    "from sklearn.ensemble import RandomForestClassifier\n",
    "from sklearn.utils import resample\n",
    "import itertools\n",
    "from sklearn.neighbors import KNeighborsClassifier"
   ]
  },
  {
   "cell_type": "markdown",
   "metadata": {},
   "source": [
    "### Testing and training the final training data."
   ]
  },
  {
   "cell_type": "markdown",
   "metadata": {},
   "source": [
    "<https://scikit-learn.org/dev/modules/generated/sklearn.preprocessing.LabelEncoder.html><br>\n",
    "<https://chrisalbon.com/machine_learning/preprocessing_structured_data/convert_pandas_categorical_column_into_integers_for_scikit-learn/>\n",
    "<p>Let's create our random forest dataframe from final_df.csv that was made in West Nile Predictor - Creation of Final Dataframe.ipynb. Let's also turn the string values of trap into increment values using LabelEncoder. If we don't do this then random forest gives us an error: ValueError: could not convert string to float: 'T011'\" (that's the first value in trap).</p>"
   ]
  },
  {
   "cell_type": "code",
   "execution_count": 2,
   "metadata": {},
   "outputs": [],
   "source": [
    "final_df = pd.read_csv('final_df.csv')"
   ]
  },
  {
   "cell_type": "code",
   "execution_count": 3,
   "metadata": {},
   "outputs": [],
   "source": [
    "accuracy_list = []"
   ]
  },
  {
   "cell_type": "markdown",
   "metadata": {},
   "source": [
    "<https://docs.python.org/3/library/datetime.html#datetime.date.fromordinal> \n",
    "\n",
    "<p>date.toordinal is used to convert the dates that are interpreted as strings to ordinal values which are ints. This allows logistic regression to use them because it doesn't want strings. This also allows us to use the Date feature because before it was dropped entirely.</p>"
   ]
  },
  {
   "cell_type": "code",
   "execution_count": 4,
   "metadata": {},
   "outputs": [
    {
     "name": "stdout",
     "output_type": "stream",
     "text": [
      "['T001' 'T002' 'T003' 'T004' 'T005' 'T006' 'T007' 'T008' 'T009' 'T011'\n",
      " 'T012' 'T013' 'T014' 'T015' 'T016' 'T017' 'T018' 'T019' 'T025' 'T027'\n",
      " 'T028' 'T030' 'T031' 'T033' 'T034' 'T035' 'T036' 'T037' 'T039' 'T040'\n",
      " 'T043' 'T044' 'T045' 'T046' 'T047' 'T048' 'T049' 'T050' 'T051' 'T054'\n",
      " 'T054C' 'T060' 'T061' 'T062' 'T063' 'T065' 'T066' 'T067' 'T069' 'T070'\n",
      " 'T071' 'T072' 'T073' 'T074' 'T075' 'T076' 'T077' 'T078' 'T079' 'T080'\n",
      " 'T081' 'T082' 'T083' 'T084' 'T085' 'T086' 'T088' 'T089' 'T090' 'T091'\n",
      " 'T092' 'T094' 'T094B' 'T095' 'T096' 'T097' 'T099' 'T100' 'T102' 'T103'\n",
      " 'T107' 'T114' 'T115' 'T128' 'T129' 'T135' 'T138' 'T141' 'T142' 'T143'\n",
      " 'T144' 'T145' 'T146' 'T147' 'T148' 'T149' 'T150' 'T151' 'T152' 'T153'\n",
      " 'T154' 'T155' 'T156' 'T157' 'T158' 'T159' 'T160' 'T161' 'T162' 'T200'\n",
      " 'T206' 'T209' 'T212' 'T215' 'T218' 'T219' 'T220' 'T221' 'T222' 'T223'\n",
      " 'T224' 'T225' 'T226' 'T227' 'T228' 'T229' 'T230' 'T231' 'T232' 'T233'\n",
      " 'T235' 'T236' 'T237' 'T238' 'T900' 'T903']\n",
      "<class 'pandas.core.frame.DataFrame'>\n",
      "RangeIndex: 8890 entries, 0 to 8889\n",
      "Data columns (total 41 columns):\n",
      "Trap                      8890 non-null int64\n",
      "Latitude                  8890 non-null float64\n",
      "Longitude                 8890 non-null float64\n",
      "NumMosquitos              8890 non-null float64\n",
      "WnvPresent                8890 non-null int64\n",
      "CULEX ERRATICUS           8890 non-null int64\n",
      "CULEX PIPIENS             8890 non-null int64\n",
      "CULEX PIPIENS/RESTUANS    8890 non-null int64\n",
      "CULEX RESTUANS            8890 non-null int64\n",
      "CULEX SALINARIUS          8890 non-null int64\n",
      "CULEX TARSALIS            8890 non-null int64\n",
      "CULEX TERRITANS           8890 non-null int64\n",
      "Tmax                      8890 non-null float64\n",
      "Tmin                      8890 non-null float64\n",
      "Tavg                      8890 non-null float64\n",
      "Depart                    8890 non-null float64\n",
      "DewPoint                  8890 non-null float64\n",
      "WetBulb                   8890 non-null float64\n",
      "Heat                      8890 non-null float64\n",
      "Cool                      8890 non-null float64\n",
      "Depth                     8890 non-null float64\n",
      "SnowFall                  8890 non-null float64\n",
      "PrecipTotal               8890 non-null float64\n",
      "StnPressure               8890 non-null float64\n",
      "SeaLevel                  8890 non-null float64\n",
      "ResultSpeed               8890 non-null float64\n",
      "ResultDir                 8890 non-null float64\n",
      "AvgSpeed                  8890 non-null float64\n",
      "<= 90 days                8890 non-null int64\n",
      "<= 183 days               8890 non-null int64\n",
      "<= 365 days               8890 non-null int64\n",
      "<= 730 days               8890 non-null int64\n",
      "> 730 days                8890 non-null int64\n",
      "<= 1/2 mile               8890 non-null int64\n",
      "<= 1 mile                 8890 non-null int64\n",
      "<= 3 miles                8890 non-null int64\n",
      "<= 5 miles                8890 non-null int64\n",
      "> 5 miles                 8890 non-null int64\n",
      "Station 1                 8890 non-null int64\n",
      "Station 2                 8890 non-null int64\n",
      "Date Ordinal              8890 non-null int64\n",
      "dtypes: float64(19), int64(22)\n",
      "memory usage: 2.8 MB\n"
     ]
    },
    {
     "data": {
      "text/html": [
       "<div>\n",
       "<style scoped>\n",
       "    .dataframe tbody tr th:only-of-type {\n",
       "        vertical-align: middle;\n",
       "    }\n",
       "\n",
       "    .dataframe tbody tr th {\n",
       "        vertical-align: top;\n",
       "    }\n",
       "\n",
       "    .dataframe thead th {\n",
       "        text-align: right;\n",
       "    }\n",
       "</style>\n",
       "<table border=\"1\" class=\"dataframe\">\n",
       "  <thead>\n",
       "    <tr style=\"text-align: right;\">\n",
       "      <th></th>\n",
       "      <th>Trap</th>\n",
       "      <th>Latitude</th>\n",
       "      <th>Longitude</th>\n",
       "      <th>NumMosquitos</th>\n",
       "      <th>WnvPresent</th>\n",
       "      <th>CULEX ERRATICUS</th>\n",
       "      <th>CULEX PIPIENS</th>\n",
       "      <th>CULEX PIPIENS/RESTUANS</th>\n",
       "      <th>CULEX RESTUANS</th>\n",
       "      <th>CULEX SALINARIUS</th>\n",
       "      <th>...</th>\n",
       "      <th>&lt;= 730 days</th>\n",
       "      <th>&gt; 730 days</th>\n",
       "      <th>&lt;= 1/2 mile</th>\n",
       "      <th>&lt;= 1 mile</th>\n",
       "      <th>&lt;= 3 miles</th>\n",
       "      <th>&lt;= 5 miles</th>\n",
       "      <th>&gt; 5 miles</th>\n",
       "      <th>Station 1</th>\n",
       "      <th>Station 2</th>\n",
       "      <th>Date Ordinal</th>\n",
       "    </tr>\n",
       "  </thead>\n",
       "  <tbody>\n",
       "    <tr>\n",
       "      <td>0</td>\n",
       "      <td>1</td>\n",
       "      <td>41.954690</td>\n",
       "      <td>-87.800991</td>\n",
       "      <td>1.0</td>\n",
       "      <td>0</td>\n",
       "      <td>0</td>\n",
       "      <td>0</td>\n",
       "      <td>1</td>\n",
       "      <td>0</td>\n",
       "      <td>0</td>\n",
       "      <td>...</td>\n",
       "      <td>0</td>\n",
       "      <td>0</td>\n",
       "      <td>0</td>\n",
       "      <td>0</td>\n",
       "      <td>0</td>\n",
       "      <td>0</td>\n",
       "      <td>0</td>\n",
       "      <td>1</td>\n",
       "      <td>0</td>\n",
       "      <td>732825</td>\n",
       "    </tr>\n",
       "    <tr>\n",
       "      <td>1</td>\n",
       "      <td>1</td>\n",
       "      <td>41.954690</td>\n",
       "      <td>-87.800991</td>\n",
       "      <td>1.0</td>\n",
       "      <td>0</td>\n",
       "      <td>0</td>\n",
       "      <td>0</td>\n",
       "      <td>0</td>\n",
       "      <td>1</td>\n",
       "      <td>0</td>\n",
       "      <td>...</td>\n",
       "      <td>0</td>\n",
       "      <td>0</td>\n",
       "      <td>0</td>\n",
       "      <td>0</td>\n",
       "      <td>0</td>\n",
       "      <td>0</td>\n",
       "      <td>0</td>\n",
       "      <td>1</td>\n",
       "      <td>0</td>\n",
       "      <td>732825</td>\n",
       "    </tr>\n",
       "    <tr>\n",
       "      <td>2</td>\n",
       "      <td>6</td>\n",
       "      <td>41.994991</td>\n",
       "      <td>-87.769279</td>\n",
       "      <td>1.0</td>\n",
       "      <td>0</td>\n",
       "      <td>0</td>\n",
       "      <td>0</td>\n",
       "      <td>0</td>\n",
       "      <td>1</td>\n",
       "      <td>0</td>\n",
       "      <td>...</td>\n",
       "      <td>0</td>\n",
       "      <td>0</td>\n",
       "      <td>0</td>\n",
       "      <td>0</td>\n",
       "      <td>0</td>\n",
       "      <td>0</td>\n",
       "      <td>0</td>\n",
       "      <td>1</td>\n",
       "      <td>0</td>\n",
       "      <td>732825</td>\n",
       "    </tr>\n",
       "  </tbody>\n",
       "</table>\n",
       "<p>3 rows × 41 columns</p>\n",
       "</div>"
      ],
      "text/plain": [
       "   Trap   Latitude  Longitude  NumMosquitos  WnvPresent  CULEX ERRATICUS  \\\n",
       "0     1  41.954690 -87.800991           1.0           0                0   \n",
       "1     1  41.954690 -87.800991           1.0           0                0   \n",
       "2     6  41.994991 -87.769279           1.0           0                0   \n",
       "\n",
       "   CULEX PIPIENS  CULEX PIPIENS/RESTUANS  CULEX RESTUANS  CULEX SALINARIUS  \\\n",
       "0              0                       1               0                 0   \n",
       "1              0                       0               1                 0   \n",
       "2              0                       0               1                 0   \n",
       "\n",
       "   ...  <= 730 days  > 730 days  <= 1/2 mile  <= 1 mile  <= 3 miles  \\\n",
       "0  ...            0           0            0          0           0   \n",
       "1  ...            0           0            0          0           0   \n",
       "2  ...            0           0            0          0           0   \n",
       "\n",
       "   <= 5 miles  > 5 miles  Station 1  Station 2  Date Ordinal  \n",
       "0           0          0          1          0        732825  \n",
       "1           0          0          1          0        732825  \n",
       "2           0          0          1          0        732825  \n",
       "\n",
       "[3 rows x 41 columns]"
      ]
     },
     "metadata": {},
     "output_type": "display_data"
    },
    {
     "data": {
      "text/plain": [
       "None"
      ]
     },
     "metadata": {},
     "output_type": "display_data"
    }
   ],
   "source": [
    "#create a label (category) encoder object\n",
    "le = preprocessing.LabelEncoder()\n",
    "\n",
    "#fit the encoder to the pandas column\n",
    "le.fit(list(final_df['Trap'].values))\n",
    "\n",
    "#view labels\n",
    "print(le.classes_)\n",
    "\n",
    "#apply the fitted encoder to the pandas columns\n",
    "final_df['Trap'] = le.transform(list(final_df['Trap'].values))\n",
    "\n",
    "#add a column that holds the ordinal versions of our dates\n",
    "final_df['Date Ordinal'] = pd.to_datetime(final_df['Date']).apply(lambda date: date.toordinal())\n",
    "\n",
    "#dropping date since random forest won't work with datetime and wants it as a float or int\n",
    "#we have the ordinal versions now that are ints\n",
    "final_df.drop('Date', axis=1, inplace=True)\n",
    "\n",
    "#columns to change from float64 to int64\n",
    "cols_to_int = ['WnvPresent', 'CULEX ERRATICUS', 'CULEX PIPIENS', 'CULEX PIPIENS/RESTUANS', 'CULEX RESTUANS', 'CULEX SALINARIUS',\n",
    "               'CULEX TARSALIS', 'CULEX TERRITANS', '<= 90 days', '<= 183 days', '<= 365 days', '<= 730 days', '> 730 days',\n",
    "              '<= 1/2 mile', '<= 1 mile', '<= 3 miles', '<= 5 miles', '> 5 miles']\n",
    "\n",
    "#changing features type to int64\n",
    "final_df[cols_to_int] = final_df[cols_to_int].astype('int64')\n",
    "\n",
    "display(final_df.head(3), final_df.info())\n",
    "\n"
   ]
  },
  {
   "cell_type": "markdown",
   "metadata": {},
   "source": [
    "Let's create our feature matrix and label vector. Train and test then get our prediction. Remember this is the train data set first given to us by the kaggle competition. The 'test' data set is for creating a prediction that we were suppose to submit as part of the contest. "
   ]
  },
  {
   "cell_type": "code",
   "execution_count": 5,
   "metadata": {},
   "outputs": [
    {
     "data": {
      "text/html": [
       "<div>\n",
       "<style scoped>\n",
       "    .dataframe tbody tr th:only-of-type {\n",
       "        vertical-align: middle;\n",
       "    }\n",
       "\n",
       "    .dataframe tbody tr th {\n",
       "        vertical-align: top;\n",
       "    }\n",
       "\n",
       "    .dataframe thead th {\n",
       "        text-align: right;\n",
       "    }\n",
       "</style>\n",
       "<table border=\"1\" class=\"dataframe\">\n",
       "  <thead>\n",
       "    <tr style=\"text-align: right;\">\n",
       "      <th></th>\n",
       "      <th>&lt;= 1 mile</th>\n",
       "      <th>&lt;= 1/2 mile</th>\n",
       "      <th>&lt;= 183 days</th>\n",
       "      <th>&lt;= 3 miles</th>\n",
       "      <th>&lt;= 365 days</th>\n",
       "      <th>&lt;= 5 miles</th>\n",
       "      <th>&lt;= 730 days</th>\n",
       "      <th>&lt;= 90 days</th>\n",
       "      <th>&gt; 5 miles</th>\n",
       "      <th>&gt; 730 days</th>\n",
       "      <th>...</th>\n",
       "      <th>SeaLevel</th>\n",
       "      <th>SnowFall</th>\n",
       "      <th>Station 1</th>\n",
       "      <th>Station 2</th>\n",
       "      <th>StnPressure</th>\n",
       "      <th>Tavg</th>\n",
       "      <th>Tmax</th>\n",
       "      <th>Tmin</th>\n",
       "      <th>Trap</th>\n",
       "      <th>WetBulb</th>\n",
       "    </tr>\n",
       "  </thead>\n",
       "  <tbody>\n",
       "    <tr>\n",
       "      <td>0</td>\n",
       "      <td>0</td>\n",
       "      <td>0</td>\n",
       "      <td>0</td>\n",
       "      <td>0</td>\n",
       "      <td>0</td>\n",
       "      <td>0</td>\n",
       "      <td>0</td>\n",
       "      <td>0</td>\n",
       "      <td>0</td>\n",
       "      <td>0</td>\n",
       "      <td>...</td>\n",
       "      <td>30.11</td>\n",
       "      <td>0.0</td>\n",
       "      <td>1</td>\n",
       "      <td>0</td>\n",
       "      <td>29.39</td>\n",
       "      <td>74.0</td>\n",
       "      <td>88.0</td>\n",
       "      <td>60.0</td>\n",
       "      <td>1</td>\n",
       "      <td>65.0</td>\n",
       "    </tr>\n",
       "    <tr>\n",
       "      <td>1</td>\n",
       "      <td>0</td>\n",
       "      <td>0</td>\n",
       "      <td>0</td>\n",
       "      <td>0</td>\n",
       "      <td>0</td>\n",
       "      <td>0</td>\n",
       "      <td>0</td>\n",
       "      <td>0</td>\n",
       "      <td>0</td>\n",
       "      <td>0</td>\n",
       "      <td>...</td>\n",
       "      <td>30.11</td>\n",
       "      <td>0.0</td>\n",
       "      <td>1</td>\n",
       "      <td>0</td>\n",
       "      <td>29.39</td>\n",
       "      <td>74.0</td>\n",
       "      <td>88.0</td>\n",
       "      <td>60.0</td>\n",
       "      <td>1</td>\n",
       "      <td>65.0</td>\n",
       "    </tr>\n",
       "    <tr>\n",
       "      <td>2</td>\n",
       "      <td>0</td>\n",
       "      <td>0</td>\n",
       "      <td>0</td>\n",
       "      <td>0</td>\n",
       "      <td>0</td>\n",
       "      <td>0</td>\n",
       "      <td>0</td>\n",
       "      <td>0</td>\n",
       "      <td>0</td>\n",
       "      <td>0</td>\n",
       "      <td>...</td>\n",
       "      <td>30.11</td>\n",
       "      <td>0.0</td>\n",
       "      <td>1</td>\n",
       "      <td>0</td>\n",
       "      <td>29.39</td>\n",
       "      <td>74.0</td>\n",
       "      <td>88.0</td>\n",
       "      <td>60.0</td>\n",
       "      <td>6</td>\n",
       "      <td>65.0</td>\n",
       "    </tr>\n",
       "  </tbody>\n",
       "</table>\n",
       "<p>3 rows × 40 columns</p>\n",
       "</div>"
      ],
      "text/plain": [
       "   <= 1 mile  <= 1/2 mile  <= 183 days  <= 3 miles  <= 365 days  <= 5 miles  \\\n",
       "0          0            0            0           0            0           0   \n",
       "1          0            0            0           0            0           0   \n",
       "2          0            0            0           0            0           0   \n",
       "\n",
       "   <= 730 days  <= 90 days  > 5 miles  > 730 days  ...  SeaLevel  SnowFall  \\\n",
       "0            0           0          0           0  ...     30.11       0.0   \n",
       "1            0           0          0           0  ...     30.11       0.0   \n",
       "2            0           0          0           0  ...     30.11       0.0   \n",
       "\n",
       "   Station 1  Station 2  StnPressure  Tavg  Tmax  Tmin  Trap  WetBulb  \n",
       "0          1          0        29.39  74.0  88.0  60.0     1     65.0  \n",
       "1          1          0        29.39  74.0  88.0  60.0     1     65.0  \n",
       "2          1          0        29.39  74.0  88.0  60.0     6     65.0  \n",
       "\n",
       "[3 rows x 40 columns]"
      ]
     },
     "metadata": {},
     "output_type": "display_data"
    },
    {
     "data": {
      "text/plain": [
       "0    0\n",
       "1    0\n",
       "2    0\n",
       "Name: WnvPresent, dtype: int64"
      ]
     },
     "metadata": {},
     "output_type": "display_data"
    }
   ],
   "source": [
    "feature_columns = final_df.columns.difference(['WnvPresent'])\n",
    "\n",
    "X = final_df[feature_columns]\n",
    "\n",
    "y = final_df['WnvPresent']\n",
    "\n",
    "display(X.head(3), y.head(3))"
   ]
  },
  {
   "cell_type": "code",
   "execution_count": 6,
   "metadata": {},
   "outputs": [
    {
     "name": "stdout",
     "output_type": "stream",
     "text": [
      "(6223, 40)\n",
      "(6223,)\n",
      "(2667, 40)\n",
      "(2667,)\n",
      "\n",
      "Value count of y_test:\n",
      " 0    2534\n",
      "1     133\n",
      "Name: WnvPresent, dtype: int64\n"
     ]
    }
   ],
   "source": [
    "# Randomly splitting the original dataset into training set and testing set:\n",
    "#Test size 30% Train size 70% \n",
    "X_train, X_test, y_train, y_test = train_test_split(X, y, test_size=0.3, random_state=2)\n",
    "\n",
    "# print the size of the traning set:\n",
    "print(X_train.shape)\n",
    "print(y_train.shape)\n",
    "\n",
    "# print the size of the testing set:\n",
    "print(X_test.shape)\n",
    "print(y_test.shape)\n",
    "\n",
    "print(\"\\nValue count of y_test:\\n\", y_test.value_counts())"
   ]
  },
  {
   "cell_type": "markdown",
   "metadata": {},
   "source": [
    "<span style=\"color:red\"><b>WARNING!</b></span><br>\n",
    "<https://towardsdatascience.com/handling-imbalanced-datasets-in-deep-learning-f48407a0e758>\n",
    "<p>Edit: this was figured out after everything else was coded. Notice how the mean for train is 5%. This means that 5% of the time the ML algorithm is taught to say 'yes' or '1' to West Nile Virus and 95% of the time is taught to say 'no' or '0'. This is why we are getting 95% accuracy for all classification ML. It's not predicting the virus, it's telling us how accurate it can say no or 0.</p>\n",
    "<p>This is happening because of unbalanced data. Our minority, 1, is under represented while our majority, 0, is over representented. What needs to happen is a resampling of random data that gives us an equal representation of our majority and minority. This is done in our West Nile Predictor - ML Algorithms Version 2.ipynb.</p>"
   ]
  },
  {
   "cell_type": "code",
   "execution_count": 7,
   "metadata": {},
   "outputs": [
    {
     "name": "stdout",
     "output_type": "stream",
     "text": [
      "0.0527076972521292\n",
      "0    5895\n",
      "1     328\n",
      "Name: WnvPresent, dtype: int64\n"
     ]
    }
   ],
   "source": [
    "print(y_train.mean())\n",
    "print(y_train.value_counts())"
   ]
  },
  {
   "cell_type": "markdown",
   "metadata": {},
   "source": [
    "### Logistic Regression"
   ]
  },
  {
   "cell_type": "code",
   "execution_count": 8,
   "metadata": {},
   "outputs": [
    {
     "name": "stdout",
     "output_type": "stream",
     "text": [
      "[0 0 0 ... 0 0 0]\n"
     ]
    }
   ],
   "source": [
    "my_logreg = LogisticRegression(solver='liblinear')\n",
    "\n",
    "# Training ONLY on the training set:\n",
    "my_logreg.fit(X_train, y_train)\n",
    "\n",
    "# Testing on the testing set:\n",
    "y_predict_lr = my_logreg.predict(X_test)\n",
    "print(y_predict_lr)"
   ]
  },
  {
   "cell_type": "code",
   "execution_count": 9,
   "metadata": {},
   "outputs": [
    {
     "name": "stdout",
     "output_type": "stream",
     "text": [
      "0.9501312335958005\n"
     ]
    }
   ],
   "source": [
    "# We can now compare the \"predicted labels\" for the Testing Set with its \"actual labels\" to evaluate the accuracy \n",
    "\n",
    "score_lr = accuracy_score(y_test, y_predict_lr)\n",
    "\n",
    "accuracy_list.append(('Logistic Regression', score_lr))\n",
    "\n",
    "print(score_lr)"
   ]
  },
  {
   "cell_type": "code",
   "execution_count": 10,
   "metadata": {},
   "outputs": [],
   "source": [
    "# Predicting the Binary Label:\n",
    "y_predict_lr = my_logreg.predict(X_test)\n",
    "\n",
    "# Estimating the probability (likelihood) of Each Label: \n",
    "y_predict_prob_lr = my_logreg.predict_proba(X_test)"
   ]
  },
  {
   "cell_type": "code",
   "execution_count": 11,
   "metadata": {},
   "outputs": [
    {
     "name": "stdout",
     "output_type": "stream",
     "text": [
      "8474    0\n",
      "3746    0\n",
      "1260    0\n",
      "1231    0\n",
      "1228    0\n",
      "       ..\n",
      "3399    0\n",
      "121     0\n",
      "3547    0\n",
      "2635    0\n",
      "2553    0\n",
      "Name: WnvPresent, Length: 2667, dtype: int64\n",
      "[0 0 0 ... 0 0 0]\n",
      "[[0.94750973 0.05249027]\n",
      " [0.94721494 0.05278506]\n",
      " [0.94707328 0.05292672]\n",
      " ...\n",
      " [0.94721298 0.05278702]\n",
      " [0.94708452 0.05291548]\n",
      " [0.94708452 0.05291548]]\n",
      "[0.05249027 0.05278506 0.05292672 ... 0.05278702 0.05291548 0.05291548]\n"
     ]
    }
   ],
   "source": [
    "# This line prints the \"actual label\" of the testing set:\n",
    "print(y_test)\n",
    "\n",
    "# This line prints the \"predicted label\" for the testing set:\n",
    "print(y_predict_lr)\n",
    "\n",
    "# This line prints the \"estimated likelihood of both label\" for the testing set:\n",
    "print(y_predict_prob_lr)\n",
    "\n",
    "# This line prints the \"estimated likelihood of label=1\" for the testing set:\n",
    "print(y_predict_prob_lr[:,1])"
   ]
  },
  {
   "cell_type": "code",
   "execution_count": 12,
   "metadata": {},
   "outputs": [
    {
     "name": "stdout",
     "output_type": "stream",
     "text": [
      "[0.00000000e+00 3.94632991e-04 7.18232044e-02 7.18232044e-02\n",
      " 9.70797159e-02 9.70797159e-02 9.86582478e-02 9.86582478e-02\n",
      " 9.90528808e-02 9.90528808e-02 1.08524073e-01 1.08524073e-01\n",
      " 1.23125493e-01 1.23125493e-01 1.27466456e-01 1.27466456e-01\n",
      " 1.28255722e-01 1.28255722e-01 1.48776638e-01 1.48776638e-01\n",
      " 1.49565904e-01 1.49565904e-01 1.54696133e-01 1.54696133e-01\n",
      " 1.55880032e-01 1.55880032e-01 1.59431728e-01 1.59431728e-01\n",
      " 1.60220994e-01 1.60220994e-01 1.68902920e-01 1.68902920e-01\n",
      " 1.74033149e-01 1.74033149e-01 1.75611681e-01 1.75611681e-01\n",
      " 1.76400947e-01 1.76400947e-01 1.77584846e-01 1.77979479e-01\n",
      " 1.78374112e-01 1.78374112e-01 1.79163378e-01 1.79163378e-01\n",
      " 1.79952644e-01 1.79952644e-01 1.89029203e-01 1.89029203e-01\n",
      " 2.00078927e-01 2.00078927e-01 2.01657459e-01 2.01657459e-01\n",
      " 2.03630624e-01 2.03630624e-01 2.11128650e-01 2.11128650e-01\n",
      " 2.12312549e-01 2.12312549e-01 2.14680347e-01 2.14680347e-01\n",
      " 2.16258879e-01 2.16258879e-01 2.17837411e-01 2.18232044e-01\n",
      " 2.19810576e-01 2.19810576e-01 2.24151539e-01 2.24151539e-01\n",
      " 2.34017364e-01 2.34017364e-01 2.35595896e-01 2.35595896e-01\n",
      " 2.46645620e-01 2.46645620e-01 2.66771902e-01 2.66771902e-01\n",
      " 3.08997632e-01 3.08997632e-01 4.68823994e-01 4.68823994e-01\n",
      " 4.82241515e-01 4.82241515e-01 4.83425414e-01 4.83425414e-01\n",
      " 5.03946330e-01 5.03946330e-01 5.22888713e-01 5.22888713e-01\n",
      " 6.44435675e-01 6.44435675e-01 6.48776638e-01 6.48776638e-01\n",
      " 6.63772691e-01 6.63772691e-01 6.64167324e-01 6.64167324e-01\n",
      " 6.72059984e-01 6.72059984e-01 6.80741910e-01 6.80741910e-01\n",
      " 6.83109708e-01 6.83109708e-01 6.88634570e-01 6.88634570e-01\n",
      " 7.05998421e-01 7.05998421e-01 7.41515391e-01 7.41515391e-01\n",
      " 7.41910024e-01 7.41910024e-01 7.47434886e-01 7.47434886e-01\n",
      " 7.48618785e-01 7.48618785e-01 7.49408051e-01 7.49408051e-01\n",
      " 8.33859511e-01 8.33859511e-01 8.37411208e-01 8.37411208e-01\n",
      " 8.41357537e-01 8.41357537e-01 8.44119968e-01 8.44119968e-01\n",
      " 8.48855564e-01 8.48855564e-01 8.53591160e-01 8.53985793e-01\n",
      " 8.56353591e-01 8.56353591e-01 8.78847672e-01 8.78847672e-01\n",
      " 8.80820837e-01 8.80820837e-01 8.82794002e-01 8.82794002e-01\n",
      " 8.85951066e-01 8.85951066e-01 8.86740331e-01 8.86740331e-01\n",
      " 8.88713496e-01 8.88713496e-01 8.93843725e-01 8.93843725e-01\n",
      " 8.99368587e-01 8.99368587e-01 9.00157853e-01 9.00157853e-01\n",
      " 9.03709550e-01 9.03709550e-01 9.04104183e-01 9.04104183e-01\n",
      " 9.09234412e-01 9.09234412e-01 9.10023678e-01 9.10023678e-01\n",
      " 9.16732439e-01 9.16732439e-01 9.19494870e-01 9.19494870e-01\n",
      " 9.19889503e-01 9.19889503e-01 9.23046567e-01 9.23046567e-01\n",
      " 9.36858721e-01 9.36858721e-01 9.37647987e-01 9.37647987e-01\n",
      " 9.40410418e-01 9.40410418e-01 9.41988950e-01 9.41988950e-01\n",
      " 9.45540647e-01 9.45540647e-01 9.46329913e-01 9.46329913e-01\n",
      " 9.48697711e-01 9.48697711e-01 9.49881610e-01 9.49881610e-01\n",
      " 9.50276243e-01 9.50276243e-01 9.51460142e-01 9.51460142e-01\n",
      " 9.53433307e-01 9.53433307e-01 9.54222573e-01 9.54222573e-01\n",
      " 9.55801105e-01 9.55801105e-01 9.59352802e-01 9.59352802e-01\n",
      " 9.60142068e-01 9.60142068e-01 9.60536701e-01 9.60536701e-01\n",
      " 9.61325967e-01 9.61325967e-01 9.61720600e-01 9.61720600e-01\n",
      " 9.62115233e-01 9.62115233e-01 9.66456196e-01 9.66456196e-01\n",
      " 9.66850829e-01 9.66850829e-01 9.69218627e-01 9.69218627e-01\n",
      " 9.72375691e-01 9.72375691e-01 9.75927388e-01 9.75927388e-01\n",
      " 9.84214680e-01 9.84214680e-01 9.88950276e-01 9.88950276e-01\n",
      " 9.89739542e-01 9.89739542e-01 9.96842936e-01 9.96842936e-01\n",
      " 1.00000000e+00]\n",
      "[0.         0.         0.         0.0075188  0.0075188  0.01503759\n",
      " 0.01503759 0.02255639 0.02255639 0.03007519 0.03007519 0.03759398\n",
      " 0.03759398 0.04511278 0.04511278 0.05263158 0.05263158 0.06015038\n",
      " 0.06015038 0.06766917 0.06766917 0.07518797 0.07518797 0.08270677\n",
      " 0.08270677 0.09774436 0.09774436 0.10526316 0.10526316 0.12030075\n",
      " 0.12030075 0.12781955 0.12781955 0.13533835 0.13533835 0.14285714\n",
      " 0.14285714 0.15037594 0.15037594 0.15789474 0.15789474 0.17293233\n",
      " 0.17293233 0.18045113 0.18045113 0.19548872 0.19548872 0.20300752\n",
      " 0.20300752 0.21052632 0.21052632 0.22556391 0.22556391 0.2406015\n",
      " 0.2406015  0.2556391  0.2556391  0.26315789 0.26315789 0.27067669\n",
      " 0.27067669 0.27819549 0.27819549 0.28571429 0.28571429 0.29323308\n",
      " 0.29323308 0.30075188 0.30075188 0.30827068 0.30827068 0.31578947\n",
      " 0.31578947 0.32330827 0.32330827 0.33082707 0.33082707 0.33834586\n",
      " 0.33834586 0.34586466 0.34586466 0.35338346 0.35338346 0.36090226\n",
      " 0.36090226 0.36842105 0.36842105 0.37593985 0.37593985 0.38345865\n",
      " 0.38345865 0.39097744 0.39097744 0.39849624 0.39849624 0.40601504\n",
      " 0.40601504 0.41353383 0.41353383 0.42105263 0.42105263 0.42857143\n",
      " 0.42857143 0.43609023 0.43609023 0.44360902 0.44360902 0.45112782\n",
      " 0.45112782 0.45864662 0.45864662 0.46616541 0.46616541 0.47368421\n",
      " 0.47368421 0.48120301 0.48120301 0.4887218  0.4887218  0.4962406\n",
      " 0.4962406  0.5037594  0.5037594  0.5112782  0.5112782  0.51879699\n",
      " 0.51879699 0.52631579 0.52631579 0.53383459 0.53383459 0.54135338\n",
      " 0.54135338 0.55639098 0.55639098 0.56390977 0.56390977 0.57894737\n",
      " 0.57894737 0.58646617 0.58646617 0.59398496 0.59398496 0.60150376\n",
      " 0.60150376 0.60902256 0.60902256 0.62406015 0.62406015 0.63157895\n",
      " 0.63157895 0.65413534 0.65413534 0.66165414 0.66165414 0.67669173\n",
      " 0.67669173 0.68421053 0.68421053 0.69172932 0.69172932 0.69924812\n",
      " 0.69924812 0.70676692 0.70676692 0.71428571 0.71428571 0.72932331\n",
      " 0.72932331 0.73684211 0.73684211 0.7443609  0.7443609  0.7518797\n",
      " 0.7518797  0.7593985  0.7593985  0.78195489 0.78195489 0.78947368\n",
      " 0.78947368 0.79699248 0.79699248 0.81203008 0.81203008 0.82706767\n",
      " 0.82706767 0.83458647 0.83458647 0.84210526 0.84210526 0.84962406\n",
      " 0.84962406 0.85714286 0.85714286 0.87969925 0.87969925 0.89473684\n",
      " 0.89473684 0.90225564 0.90225564 0.90977444 0.90977444 0.92481203\n",
      " 0.92481203 0.93233083 0.93233083 0.94736842 0.94736842 0.95488722\n",
      " 0.95488722 0.96240602 0.96240602 0.96992481 0.96992481 0.98496241\n",
      " 0.98496241 0.9924812  0.9924812  1.         1.        ]\n"
     ]
    }
   ],
   "source": [
    "fpr, tpr, thresholds = metrics.roc_curve(y_test, y_predict_prob_lr[:,1], pos_label=1)\n",
    "\n",
    "print(fpr)\n",
    "print(tpr)"
   ]
  },
  {
   "cell_type": "code",
   "execution_count": 13,
   "metadata": {},
   "outputs": [
    {
     "name": "stdout",
     "output_type": "stream",
     "text": [
      "AUC:  0.36565417094433006\n"
     ]
    },
    {
     "data": {
      "image/png": "[encoded data removed]",
      "text/plain": [
       "<Figure size 432x288 with 1 Axes>"
      ]
     },
     "metadata": {
      "needs_background": "light"
     },
     "output_type": "display_data"
    }
   ],
   "source": [
    "AUC_logreg = metrics.auc(fpr, tpr)\n",
    "\n",
    "print(\"AUC: \", AUC_logreg)\n",
    "\n",
    "plt.figure()\n",
    "\n",
    "plt.plot(fpr, tpr, color='red', lw=2, label='ROC Curve (area = %0.2f)' % AUC_logreg)\n",
    "plt.plot([0, 1], [0, 1], color='blue', lw=1, linestyle='--')\n",
    "\n",
    "plt.xlim([-0.005, 1.005])\n",
    "plt.ylim([0, 1.01])\n",
    "\n",
    "plt.xlabel('False Positive Rate')\n",
    "plt.ylabel('True Positive Rate')\n",
    "plt.title('Receiver Operating Characteristic')\n",
    "plt.legend(loc='lower right')\n",
    "\n",
    "plt.show()"
   ]
  },
  {
   "cell_type": "markdown",
   "metadata": {},
   "source": [
    "### Linear Regression"
   ]
  },
  {
   "cell_type": "markdown",
   "metadata": {},
   "source": [
    "<p>Using Linear Regression on the training set. Checking the coefficent's of the model to find the most to least important.</p>"
   ]
  },
  {
   "cell_type": "code",
   "execution_count": 14,
   "metadata": {},
   "outputs": [
    {
     "name": "stdout",
     "output_type": "stream",
     "text": [
      "Coefficients in Descending Order:\n",
      "SnowFall    \t\t15.562262173444221\n",
      "Longitude   \t\t0.11847377568926619\n",
      "CULEX ERRATICUS\t\t0.09231507002049179\n",
      "<= 1 mile   \t\t0.04654972994448538\n",
      "CULEX PIPIENS\t\t0.04562473246409676\n",
      "<= 730 days \t\t0.0391452779807159\n",
      "> 5 miles   \t\t0.03914527797584118\n",
      "Latitude    \t\t0.035987593142850396\n",
      "<= 1/2 mile \t\t0.027094990229595977\n",
      "CULEX TARSALIS\t\t0.023627741063725387\n",
      "PrecipTotal \t\t0.02111723751594365\n",
      "StnPressure \t\t0.015709212525959006\n",
      "Tmax        \t\t0.013108839214245105\n",
      "CULEX SALINARIUS\t\t0.011910586304980377\n",
      "CULEX PIPIENS/RESTUANS\t\t0.010272026484433091\n",
      "Tavg        \t\t0.010209667026220526\n",
      "SeaLevel    \t\t0.009349971972830363\n",
      "CULEX TERRITANS\t\t0.00883757212314404\n",
      "Tmin        \t\t0.008454608298445522\n",
      "WetBulb     \t\t0.008063324587536098\n",
      "CULEX RESTUANS\t\t0.007957588439148905\n",
      "ResultSpeed \t\t0.005988409298849465\n",
      "Cool        \t\t0.0054201645084984386\n",
      "<= 3 miles  \t\t0.005417185321430351\n",
      "<= 183 days \t\t0.0048756718418775935\n",
      "<= 365 days \t\t0.004875671840596716\n",
      "<= 90 days  \t\t0.00487567183727702\n",
      "Heat        \t\t0.004789502520075783\n",
      "NumMosquitos\t\t0.0037898077907888043\n",
      "Depart      \t\t0.00337076964556979\n",
      "AvgSpeed    \t\t0.002287258613942802\n",
      "Station 2   \t\t0.0016738558872776619\n",
      "Station 1   \t\t0.0016738558870859964\n",
      "<= 5 miles  \t\t0.0013775557969571536\n",
      "ResultDir   \t\t0.0001774052694972168\n",
      "DewPoint    \t\t0.00016089221981813794\n",
      "Date Ordinal\t\t1.4227597424594173e-05\n",
      "Trap        \t\t1.3297047974287515e-05\n",
      "> 730 days  \t\t4.548006068971766e-12\n",
      "Depth       \t\t6.425936172060887e-14\n",
      "\n",
      "\n",
      "Most Important Feature:  SnowFall\n",
      "Least Important Feature:  Depth\n"
     ]
    }
   ],
   "source": [
    "#create classifier\n",
    "my_linreg = LinearRegression()\n",
    "\n",
    "#train\n",
    "my_linreg.fit(X_train, y_train)\n",
    "\n",
    "#check coefficients, numbers need to be absolute to determin best/worst\n",
    "coefficients = abs(my_linreg.coef_)\n",
    "\n",
    "#create tuple list of feature/coefficient pairings and sort by coefficient by descending order\n",
    "name_coefficient_tuples = list(zip(X.columns, coefficients))\n",
    "name_coefficient_tuples.sort(key = operator.itemgetter(1), reverse=True)\n",
    "\n",
    "print(\"Coefficients in Descending Order:\")\n",
    "\n",
    "for a,b in name_coefficient_tuples:\n",
    "    print(\"{:<12}\\t\\t{}\".format(a,b))\n",
    "    \n",
    "#print most and least important\n",
    "print(\"\\n\\nMost Important Feature: \", name_coefficient_tuples[0][0])\n",
    "print(\"Least Important Feature: \", name_coefficient_tuples[-1][0])"
   ]
  },
  {
   "cell_type": "markdown",
   "metadata": {},
   "source": [
    "<p>Predict “balance” for the users in testing set. Then, compare the predicted balance with the actual balance by calculating and reporting the RMSE.</p>"
   ]
  },
  {
   "cell_type": "code",
   "execution_count": 15,
   "metadata": {},
   "outputs": [
    {
     "name": "stdout",
     "output_type": "stream",
     "text": [
      "RMSE:  0.2084310488090178\n"
     ]
    }
   ],
   "source": [
    "#make prediction from testing data\n",
    "y_prediction = my_linreg.predict(X_test)\n",
    "\n",
    "#calculating mean square error (MSE)\n",
    "mse = metrics.mean_squared_error(y_test, y_prediction)\n",
    "\n",
    "#RMSE calculation\n",
    "rmse = np.sqrt(mse)\n",
    "\n",
    "#print RMSE\n",
    "print(\"RMSE: \", rmse)"
   ]
  },
  {
   "cell_type": "markdown",
   "metadata": {},
   "source": [
    "<p>Use 10-fold Cross-Validation to evaluate the performance of a linear regression in\n",
    "predicting. Thus, rather than splitting the dataset into testing and training,\n",
    "use Cross-Validation to evaluate the regression performance.</p>"
   ]
  },
  {
   "cell_type": "code",
   "execution_count": 16,
   "metadata": {},
   "outputs": [
    {
     "name": "stdout",
     "output_type": "stream",
     "text": [
      "RMSE List:  [0.02399952 0.03256561 0.03057802 0.0386019  0.04005172 0.04457641\n",
      " 0.19373245 0.18487449 0.19950945 0.1404966  0.18108334 0.18704236\n",
      " 0.25698552 0.13275684 0.39819575 0.33742091 0.33231882 0.40142744\n",
      " 0.35330733 0.4357622  0.35209826 0.33604883 0.28351051 0.22700037\n",
      " 0.19280208 0.04468669 0.13040398 0.06251626 0.07804629 0.14847236\n",
      " 0.04006064 0.05062365 0.06528709 0.05853487 0.05615659 1.40788537\n",
      " 0.0483182  0.06419553 0.07040764 0.06082547 0.05613203 0.18456144\n",
      " 0.05760372 0.09775506 0.05487162 0.10552739 0.21371256 0.15591753\n",
      " 0.18510639 0.11126101 0.11996968 0.06681798 0.0257052  0.05595542\n",
      " 0.04334105 0.06017694 0.07863475 0.10476484 0.08141742 0.05711699\n",
      " 0.17052858 0.11751709 0.26393323 0.22232353 0.04067467 0.32149376\n",
      " 0.1652139  0.18116734 0.21408759 0.22788161 0.18638385 0.14770876\n",
      " 0.26251347 0.10417    0.05104935 0.06003919 0.05099579 0.07702169\n",
      " 0.11122821 0.14953533 0.17168128 0.24593426 0.27607728 0.23073685\n",
      " 0.20156836 0.14198705 0.30517062 0.33562731 0.32798024 0.37751931\n",
      " 0.29231248 0.42791317 0.29734156 0.49362969 0.40599827 0.386699\n",
      " 0.35860522 0.38553884 0.24184072 0.21123951]\n",
      "\n",
      "RMSE Cross-Validation:  0.1888038440020029\n"
     ]
    }
   ],
   "source": [
    "mse_list = cross_val_score(my_linreg, X, y, cv= 100, scoring='neg_mean_squared_error')\n",
    "rmse_list = np.sqrt(abs(mse_list))\n",
    "\n",
    "print(\"RMSE List: \", rmse_list)\n",
    "print(\"\\nRMSE Cross-Validation: \", rmse_list.mean())"
   ]
  },
  {
   "cell_type": "code",
   "execution_count": 17,
   "metadata": {
    "scrolled": true
   },
   "outputs": [
    {
     "data": {
      "image/png": "[encoded data removed]",
      "text/plain": [
       "<Figure size 432x288 with 1 Axes>"
      ]
     },
     "metadata": {
      "needs_background": "light"
     },
     "output_type": "display_data"
    }
   ],
   "source": [
    "#x-axis tick range\n",
    "x_values = range(1, len(rmse_list) + 1)\n",
    "\n",
    "mean_values = [rmse_list.mean()] * len(rmse_list)\n",
    "\n",
    "#plotting x and y-axis graph markers\n",
    "line, = plt.plot(x_values, rmse_list, color= 'blue', linestyle = '--', linewidth = 1, marker='o', markerfacecolor = 'blue', markersize = 5, label ='All Features')\n",
    "line_mean, = plt.plot(x_values, mean_values, color= 'red', linestyle = '-', linewidth = 1, label ='RMSE List Mean')\n",
    "\n",
    "plt.legend(handles = [line, line_mean])\n",
    "\n",
    "#x-axis title\n",
    "plt.xlabel('Cross Validation Folds')\n",
    "\n",
    "#y-axis title \n",
    "plt.ylabel('RMSE') \n",
    "  \n",
    "#graph title\n",
    "plt.title('Linear Regression with 100 Features')\n",
    "plt.show()"
   ]
  },
  {
   "cell_type": "markdown",
   "metadata": {},
   "source": [
    "### Decision Tree"
   ]
  },
  {
   "cell_type": "code",
   "execution_count": 18,
   "metadata": {},
   "outputs": [
    {
     "name": "stdout",
     "output_type": "stream",
     "text": [
      "[0 0 0 ... 0 0 0]\n"
     ]
    }
   ],
   "source": [
    "my_decisiontree = DecisionTreeClassifier()\n",
    "\n",
    "my_decisiontree.fit(X_train, y_train)\n",
    "\n",
    "y_predict_dt = my_decisiontree.predict(X_test)\n",
    "\n",
    "print(y_predict_dt)"
   ]
  },
  {
   "cell_type": "code",
   "execution_count": 19,
   "metadata": {},
   "outputs": [
    {
     "name": "stdout",
     "output_type": "stream",
     "text": [
      "Accuracy : 0.9032620922384702\n"
     ]
    }
   ],
   "source": [
    "score_dt = accuracy_score(y_test, y_predict_dt)\n",
    "\n",
    "print(\"Accuracy :\", score_dt)"
   ]
  },
  {
   "cell_type": "markdown",
   "metadata": {},
   "source": [
    "<p>Let's see if bagging will produce an accuracy different from one decision tree.</p>\n",
    "\n",
    "<p>Errors given when n_samples are greater than 79:<br><li>---> 17 accuracy = accuracy_score(y_test, voting)</li><li>ValueError: Input contains NaN, infinity or a value too large for dtype('float64').</li></p>\n",
    "\n",
    "<p>Why is it that when we use 20 Decision Trees, the voting dataframe has two columns. One column with actual vote data and the other with 'Nan'?</p>  "
   ]
  },
  {
   "cell_type": "code",
   "execution_count": 20,
   "metadata": {},
   "outputs": [
    {
     "data": {
      "text/html": [
       "<div>\n",
       "<style scoped>\n",
       "    .dataframe tbody tr th:only-of-type {\n",
       "        vertical-align: middle;\n",
       "    }\n",
       "\n",
       "    .dataframe tbody tr th {\n",
       "        vertical-align: top;\n",
       "    }\n",
       "\n",
       "    .dataframe thead th {\n",
       "        text-align: right;\n",
       "    }\n",
       "</style>\n",
       "<table border=\"1\" class=\"dataframe\">\n",
       "  <thead>\n",
       "    <tr style=\"text-align: right;\">\n",
       "      <th></th>\n",
       "      <th>0</th>\n",
       "    </tr>\n",
       "  </thead>\n",
       "  <tbody>\n",
       "    <tr>\n",
       "      <td>0</td>\n",
       "      <td>0</td>\n",
       "    </tr>\n",
       "    <tr>\n",
       "      <td>1</td>\n",
       "      <td>0</td>\n",
       "    </tr>\n",
       "    <tr>\n",
       "      <td>2</td>\n",
       "      <td>0</td>\n",
       "    </tr>\n",
       "    <tr>\n",
       "      <td>3</td>\n",
       "      <td>0</td>\n",
       "    </tr>\n",
       "    <tr>\n",
       "      <td>4</td>\n",
       "      <td>0</td>\n",
       "    </tr>\n",
       "    <tr>\n",
       "      <td>...</td>\n",
       "      <td>...</td>\n",
       "    </tr>\n",
       "    <tr>\n",
       "      <td>2662</td>\n",
       "      <td>0</td>\n",
       "    </tr>\n",
       "    <tr>\n",
       "      <td>2663</td>\n",
       "      <td>0</td>\n",
       "    </tr>\n",
       "    <tr>\n",
       "      <td>2664</td>\n",
       "      <td>0</td>\n",
       "    </tr>\n",
       "    <tr>\n",
       "      <td>2665</td>\n",
       "      <td>0</td>\n",
       "    </tr>\n",
       "    <tr>\n",
       "      <td>2666</td>\n",
       "      <td>0</td>\n",
       "    </tr>\n",
       "  </tbody>\n",
       "</table>\n",
       "<p>2667 rows × 1 columns</p>\n",
       "</div>"
      ],
      "text/plain": [
       "      0\n",
       "0     0\n",
       "1     0\n",
       "2     0\n",
       "3     0\n",
       "4     0\n",
       "...  ..\n",
       "2662  0\n",
       "2663  0\n",
       "2664  0\n",
       "2665  0\n",
       "2666  0\n",
       "\n",
       "[2667 rows x 1 columns]"
      ]
     },
     "metadata": {},
     "output_type": "display_data"
    },
    {
     "name": "stdout",
     "output_type": "stream",
     "text": [
      "bootstrap size:  4978\n",
      "Accuracy:  0.9403824521934758\n"
     ]
    }
   ],
   "source": [
    "bootstrap_size = int(0.8 * len(X_train))\n",
    "predictions = pd.DataFrame()\n",
    "Base_DecisionTree = DecisionTreeClassifier(random_state = 3)\n",
    "\n",
    "for i in range(19):\n",
    "    X_train_i, y_train_i = resample(X_train, y_train, n_samples=bootstrap_size, random_state=i, replace=True)\n",
    "    Base_DecisionTree.fit(X_train_i, y_train_i)\n",
    "    predictions[i] = Base_DecisionTree.predict(X_test)\n",
    "\n",
    "#each column in predictions database is an individual tree with the column being its label outputs\n",
    "\n",
    "voting = predictions.mode(axis=1)\n",
    "\n",
    "display(voting)\n",
    "\n",
    "# vote and compare against y_test\n",
    "# https://pandas.pydata.org/pandas-docs/stable/reference/api/pandas.DataFrame.mode.html (reference)\n",
    "score_bagging = accuracy_score(y_test, voting)\n",
    "\n",
    "accuracy_list.append(('Bagging', score_bagging))\n",
    "\n",
    "print(\"bootstrap size: \", bootstrap_size)\n",
    "\n",
    "print(\"Accuracy: \", score_bagging)"
   ]
  },
  {
   "cell_type": "markdown",
   "metadata": {},
   "source": [
    "### Random Forest"
   ]
  },
  {
   "cell_type": "markdown",
   "metadata": {},
   "source": [
    "<li>For n_estimators = 19 ---> 0.9373828271466067</li>\n",
    "<li>For n_estimators = 20 ---> 0.9400074990626172</li>"
   ]
  },
  {
   "cell_type": "code",
   "execution_count": 21,
   "metadata": {},
   "outputs": [
    {
     "name": "stdout",
     "output_type": "stream",
     "text": [
      "Accuracy:  0.9422572178477691\n"
     ]
    }
   ],
   "source": [
    "my_RandomForest = RandomForestClassifier(n_estimators=bootstrap_size, bootstrap=True, random_state=3)\n",
    "\n",
    "my_RandomForest.fit(X_train, y_train)\n",
    "\n",
    "y_predict_rf = my_RandomForest.predict(X_test)\n",
    "\n",
    "score_rf = accuracy_score(y_test, y_predict_rf)\n",
    "\n",
    "accuracy_list.append(('Random Forest', score_rf))\n",
    "\n",
    "print('Accuracy: ', score_rf)"
   ]
  },
  {
   "cell_type": "markdown",
   "metadata": {},
   "source": [
    "### KNN"
   ]
  },
  {
   "cell_type": "code",
   "execution_count": 22,
   "metadata": {},
   "outputs": [
    {
     "name": "stdout",
     "output_type": "stream",
     "text": [
      "Accuracy:  0.9501312335958005\n"
     ]
    }
   ],
   "source": [
    "k = len(X_train)\n",
    "my_knn = KNeighborsClassifier(n_neighbors=k)\n",
    "my_knn.fit(X_train, y_train)\n",
    "y_predict = my_knn.predict(X_test)\n",
    "\n",
    "accuracy = accuracy_score(y_test, y_predict)\n",
    "print(\"Accuracy: \", accuracy)"
   ]
  },
  {
   "cell_type": "markdown",
   "metadata": {},
   "source": [
    "<p>Wanted to make sure that WnvPresent wasn't all zeros.</p>"
   ]
  },
  {
   "cell_type": "code",
   "execution_count": 23,
   "metadata": {},
   "outputs": [
    {
     "data": {
      "text/plain": [
       "0    8429\n",
       "1     461\n",
       "Name: WnvPresent, dtype: int64"
      ]
     },
     "execution_count": 23,
     "metadata": {},
     "output_type": "execute_result"
    }
   ],
   "source": [
    "final_df['WnvPresent'].value_counts()"
   ]
  },
  {
   "cell_type": "markdown",
   "metadata": {},
   "source": [
    "<p>The same for y_test.</p>"
   ]
  },
  {
   "cell_type": "code",
   "execution_count": 24,
   "metadata": {},
   "outputs": [
    {
     "data": {
      "text/plain": [
       "0    2534\n",
       "1     133\n",
       "Name: WnvPresent, dtype: int64"
      ]
     },
     "execution_count": 24,
     "metadata": {},
     "output_type": "execute_result"
    }
   ],
   "source": [
    "y_test.value_counts()"
   ]
  },
  {
   "cell_type": "code",
   "execution_count": 25,
   "metadata": {},
   "outputs": [
    {
     "name": "stdout",
     "output_type": "stream",
     "text": [
      "[0.9212598425196851, 0.9501312335958005, 0.9501312335958005, 0.9501312335958005, 0.9501312335958005, 0.9501312335958005, 0.9501312335958005, 0.9501312335958005, 0.9501312335958005]\n"
     ]
    }
   ],
   "source": [
    "k_list = [1, 100, 500, 1000, 2000, 3000, 4000, 5000, len(X_train)]\n",
    "accuracy_list_knn = []\n",
    "\n",
    "for k in k_list:\n",
    "    my_knn = KNeighborsClassifier(n_neighbors=k)\n",
    "    my_knn.fit(X_train, y_train)\n",
    "    y_predict = my_knn.predict(X_test)\n",
    "    accuracy = accuracy_score(y_test, y_predict)\n",
    "    accuracy_list_knn.append(accuracy)\n",
    "    \n",
    "print(accuracy_list_knn)"
   ]
  },
  {
   "cell_type": "markdown",
   "metadata": {},
   "source": [
    "### What would happen if we just dropped all the spray data?"
   ]
  },
  {
   "cell_type": "code",
   "execution_count": 26,
   "metadata": {},
   "outputs": [
    {
     "data": {
      "text/plain": [
       "Index(['Trap', 'Latitude', 'Longitude', 'NumMosquitos', 'WnvPresent',\n",
       "       'CULEX ERRATICUS', 'CULEX PIPIENS', 'CULEX PIPIENS/RESTUANS',\n",
       "       'CULEX RESTUANS', 'CULEX SALINARIUS', 'CULEX TARSALIS',\n",
       "       'CULEX TERRITANS', 'Tmax', 'Tmin', 'Tavg', 'Depart', 'DewPoint',\n",
       "       'WetBulb', 'Heat', 'Cool', 'Depth', 'SnowFall', 'PrecipTotal',\n",
       "       'StnPressure', 'SeaLevel', 'ResultSpeed', 'ResultDir', 'AvgSpeed',\n",
       "       'Station 1', 'Station 2', 'Date Ordinal'],\n",
       "      dtype='object')"
      ]
     },
     "execution_count": 26,
     "metadata": {},
     "output_type": "execute_result"
    }
   ],
   "source": [
    "cols_to_drop = ['<= 90 days', '<= 183 days', '<= 365 days', '<= 730 days', '> 730 days',\n",
    "              '<= 1/2 mile', '<= 1 mile', '<= 3 miles', '<= 5 miles', '> 5 miles']\n",
    "\n",
    "final_df.drop(cols_to_drop, axis=1, inplace=True)\n",
    "\n",
    "final_df.columns"
   ]
  },
  {
   "cell_type": "code",
   "execution_count": 27,
   "metadata": {},
   "outputs": [
    {
     "data": {
      "text/html": [
       "<div>\n",
       "<style scoped>\n",
       "    .dataframe tbody tr th:only-of-type {\n",
       "        vertical-align: middle;\n",
       "    }\n",
       "\n",
       "    .dataframe tbody tr th {\n",
       "        vertical-align: top;\n",
       "    }\n",
       "\n",
       "    .dataframe thead th {\n",
       "        text-align: right;\n",
       "    }\n",
       "</style>\n",
       "<table border=\"1\" class=\"dataframe\">\n",
       "  <thead>\n",
       "    <tr style=\"text-align: right;\">\n",
       "      <th></th>\n",
       "      <th>AvgSpeed</th>\n",
       "      <th>CULEX ERRATICUS</th>\n",
       "      <th>CULEX PIPIENS</th>\n",
       "      <th>CULEX PIPIENS/RESTUANS</th>\n",
       "      <th>CULEX RESTUANS</th>\n",
       "      <th>CULEX SALINARIUS</th>\n",
       "      <th>CULEX TARSALIS</th>\n",
       "      <th>CULEX TERRITANS</th>\n",
       "      <th>Cool</th>\n",
       "      <th>Date Ordinal</th>\n",
       "      <th>...</th>\n",
       "      <th>SeaLevel</th>\n",
       "      <th>SnowFall</th>\n",
       "      <th>Station 1</th>\n",
       "      <th>Station 2</th>\n",
       "      <th>StnPressure</th>\n",
       "      <th>Tavg</th>\n",
       "      <th>Tmax</th>\n",
       "      <th>Tmin</th>\n",
       "      <th>Trap</th>\n",
       "      <th>WetBulb</th>\n",
       "    </tr>\n",
       "  </thead>\n",
       "  <tbody>\n",
       "    <tr>\n",
       "      <td>0</td>\n",
       "      <td>6.5</td>\n",
       "      <td>0</td>\n",
       "      <td>0</td>\n",
       "      <td>1</td>\n",
       "      <td>0</td>\n",
       "      <td>0</td>\n",
       "      <td>0</td>\n",
       "      <td>0</td>\n",
       "      <td>9.0</td>\n",
       "      <td>732825</td>\n",
       "      <td>...</td>\n",
       "      <td>30.11</td>\n",
       "      <td>0.0</td>\n",
       "      <td>1</td>\n",
       "      <td>0</td>\n",
       "      <td>29.39</td>\n",
       "      <td>74.0</td>\n",
       "      <td>88.0</td>\n",
       "      <td>60.0</td>\n",
       "      <td>1</td>\n",
       "      <td>65.0</td>\n",
       "    </tr>\n",
       "    <tr>\n",
       "      <td>1</td>\n",
       "      <td>6.5</td>\n",
       "      <td>0</td>\n",
       "      <td>0</td>\n",
       "      <td>0</td>\n",
       "      <td>1</td>\n",
       "      <td>0</td>\n",
       "      <td>0</td>\n",
       "      <td>0</td>\n",
       "      <td>9.0</td>\n",
       "      <td>732825</td>\n",
       "      <td>...</td>\n",
       "      <td>30.11</td>\n",
       "      <td>0.0</td>\n",
       "      <td>1</td>\n",
       "      <td>0</td>\n",
       "      <td>29.39</td>\n",
       "      <td>74.0</td>\n",
       "      <td>88.0</td>\n",
       "      <td>60.0</td>\n",
       "      <td>1</td>\n",
       "      <td>65.0</td>\n",
       "    </tr>\n",
       "    <tr>\n",
       "      <td>2</td>\n",
       "      <td>6.5</td>\n",
       "      <td>0</td>\n",
       "      <td>0</td>\n",
       "      <td>0</td>\n",
       "      <td>1</td>\n",
       "      <td>0</td>\n",
       "      <td>0</td>\n",
       "      <td>0</td>\n",
       "      <td>9.0</td>\n",
       "      <td>732825</td>\n",
       "      <td>...</td>\n",
       "      <td>30.11</td>\n",
       "      <td>0.0</td>\n",
       "      <td>1</td>\n",
       "      <td>0</td>\n",
       "      <td>29.39</td>\n",
       "      <td>74.0</td>\n",
       "      <td>88.0</td>\n",
       "      <td>60.0</td>\n",
       "      <td>6</td>\n",
       "      <td>65.0</td>\n",
       "    </tr>\n",
       "  </tbody>\n",
       "</table>\n",
       "<p>3 rows × 30 columns</p>\n",
       "</div>"
      ],
      "text/plain": [
       "   AvgSpeed  CULEX ERRATICUS  CULEX PIPIENS  CULEX PIPIENS/RESTUANS  \\\n",
       "0       6.5                0              0                       1   \n",
       "1       6.5                0              0                       0   \n",
       "2       6.5                0              0                       0   \n",
       "\n",
       "   CULEX RESTUANS  CULEX SALINARIUS  CULEX TARSALIS  CULEX TERRITANS  Cool  \\\n",
       "0               0                 0               0                0   9.0   \n",
       "1               1                 0               0                0   9.0   \n",
       "2               1                 0               0                0   9.0   \n",
       "\n",
       "   Date Ordinal  ...  SeaLevel  SnowFall  Station 1  Station 2  StnPressure  \\\n",
       "0        732825  ...     30.11       0.0          1          0        29.39   \n",
       "1        732825  ...     30.11       0.0          1          0        29.39   \n",
       "2        732825  ...     30.11       0.0          1          0        29.39   \n",
       "\n",
       "   Tavg  Tmax  Tmin  Trap  WetBulb  \n",
       "0  74.0  88.0  60.0     1     65.0  \n",
       "1  74.0  88.0  60.0     1     65.0  \n",
       "2  74.0  88.0  60.0     6     65.0  \n",
       "\n",
       "[3 rows x 30 columns]"
      ]
     },
     "metadata": {},
     "output_type": "display_data"
    },
    {
     "data": {
      "text/plain": [
       "0    0\n",
       "1    0\n",
       "2    0\n",
       "Name: WnvPresent, dtype: int64"
      ]
     },
     "metadata": {},
     "output_type": "display_data"
    },
    {
     "name": "stdout",
     "output_type": "stream",
     "text": [
      "(6223, 30)\n",
      "(6223,)\n",
      "(2667, 30)\n",
      "(2667,)\n",
      "\n",
      "Value count of y_test:\n",
      " 0    2534\n",
      "1     133\n",
      "Name: WnvPresent, dtype: int64\n"
     ]
    }
   ],
   "source": [
    "feature_columns = final_df.columns.difference(['WnvPresent'])\n",
    "\n",
    "X = final_df[feature_columns]\n",
    "\n",
    "y = final_df['WnvPresent']\n",
    "\n",
    "display(X.head(3), y.head(3))\n",
    "\n",
    "# Randomly splitting the original dataset into training set and testing set:\n",
    "#Test size 30% Train size 70% \n",
    "X_train, X_test, y_train, y_test = train_test_split(X, y, test_size=0.3, random_state=2)\n",
    "\n",
    "# print the size of the traning set:\n",
    "print(X_train.shape)\n",
    "print(y_train.shape)\n",
    "\n",
    "# print the size of the testing set:\n",
    "print(X_test.shape)\n",
    "print(y_test.shape)\n",
    "\n",
    "print(\"\\nValue count of y_test:\\n\", y_test.value_counts())"
   ]
  },
  {
   "cell_type": "code",
   "execution_count": 28,
   "metadata": {},
   "outputs": [
    {
     "name": "stdout",
     "output_type": "stream",
     "text": [
      "[0 0 0 ... 0 0 0]\n",
      "0.9501312335958005\n",
      "AUC:  0.36565417094433006\n"
     ]
    },
    {
     "data": {
      "image/png": "[encoded data removed]",
      "text/plain": [
       "<Figure size 432x288 with 1 Axes>"
      ]
     },
     "metadata": {
      "needs_background": "light"
     },
     "output_type": "display_data"
    }
   ],
   "source": [
    "my_logreg_no_spray = LogisticRegression(solver='liblinear')\n",
    "\n",
    "# Training ONLY on the training set:\n",
    "my_logreg_no_spray.fit(X_train, y_train)\n",
    "\n",
    "# Testing on the testing set:\n",
    "y_predict_lr = my_logreg_no_spray.predict(X_test)\n",
    "print(y_predict_lr)\n",
    "\n",
    "# We can now compare the \"predicted labels\" for the Testing Set with its \"actual labels\" to evaluate the accuracy \n",
    "\n",
    "score_lr = accuracy_score(y_test, y_predict_lr)\n",
    "\n",
    "accuracy_list.append(('Logistic Regression', score_lr))\n",
    "\n",
    "print(score_lr)\n",
    "\n",
    "# Predicting the Binary Label:\n",
    "y_predict_lr = my_logreg_no_spray.predict(X_test)\n",
    "\n",
    "# Estimating the probability (likelihood) of Each Label: \n",
    "y_predict_prob_lr = my_logreg_no_spray.predict_proba(X_test)\n",
    "\n",
    "fpr, tpr, thresholds = metrics.roc_curve(y_test, y_predict_prob_lr[:,1], pos_label=1)\n",
    "\n",
    "AUC_logreg = metrics.auc(fpr, tpr)\n",
    "\n",
    "print(\"AUC: \", AUC_logreg)\n",
    "\n",
    "plt.figure()\n",
    "\n",
    "plt.plot(fpr, tpr, color='red', lw=2, label='ROC Curve (area = %0.2f)' % AUC_logreg)\n",
    "plt.plot([0, 1], [0, 1], color='blue', lw=1, linestyle='--')\n",
    "\n",
    "plt.xlim([-0.005, 1.005])\n",
    "plt.ylim([0, 1.01])\n",
    "\n",
    "plt.xlabel('False Positive Rate')\n",
    "plt.ylabel('True Positive Rate')\n",
    "plt.title('Receiver Operating Characteristic')\n",
    "plt.legend(loc='lower right')\n",
    "\n",
    "plt.show()"
   ]
  },
  {
   "cell_type": "code",
   "execution_count": 29,
   "metadata": {},
   "outputs": [
    {
     "data": {
      "text/plain": [
       "0.000    8820\n",
       "0.005      70\n",
       "Name: SnowFall, dtype: int64"
      ]
     },
     "execution_count": 29,
     "metadata": {},
     "output_type": "execute_result"
    }
   ],
   "source": [
    "final_df['SnowFall'].value_counts()"
   ]
  },
  {
   "cell_type": "code",
   "execution_count": null,
   "metadata": {},
   "outputs": [],
   "source": []
  }
 ],
 "metadata": {
  "kernelspec": {
   "display_name": "Python 3",
   "language": "python",
   "name": "python3"
  },
  "language_info": {
   "codemirror_mode": {
    "name": "ipython",
    "version": 3
   },
   "file_extension": ".py",
   "mimetype": "text/x-python",
   "name": "python",
   "nbconvert_exporter": "python",
   "pygments_lexer": "ipython3",
   "version": "3.7.3"
  }
 },
 "nbformat": 4,
 "nbformat_minor": 2
}
