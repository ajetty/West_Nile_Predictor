{
 "cells": [
  {
   "cell_type": "markdown",
   "metadata": {},
   "source": [
    "<p>This is our corrected, final version for this project.</p>"
   ]
  },
  {
   "cell_type": "code",
   "execution_count": 48,
   "metadata": {},
   "outputs": [],
   "source": [
    "%matplotlib inline\n",
    "from sklearn.linear_model import LogisticRegression\n",
    "from sklearn.cluster import KMeans\n",
    "from sklearn.model_selection import train_test_split\n",
    "from sklearn.metrics import accuracy_score\n",
    "from sklearn.model_selection import cross_val_score\n",
    "from sklearn import metrics\n",
    "import matplotlib.pyplot as plt\n",
    "import numpy as np\n",
    "import pandas as pd\n",
    "from sklearn import preprocessing\n",
    "import datetime\n",
    "from sklearn.linear_model import LinearRegression\n",
    "import operator\n",
    "from numpy import sqrt\n",
    "from sklearn.metrics import mean_squared_error\n",
    "from sklearn.tree import DecisionTreeClassifier\n",
    "from sklearn.ensemble import RandomForestClassifier\n",
    "from sklearn.utils import resample\n",
    "from sklearn.neighbors import KNeighborsClassifier\n",
    "from imblearn.over_sampling import SMOTE"
   ]
  },
  {
   "cell_type": "markdown",
   "metadata": {},
   "source": [
    "### Testing and training the final training data."
   ]
  },
  {
   "cell_type": "markdown",
   "metadata": {},
   "source": [
    "<https://scikit-learn.org/dev/modules/generated/sklearn.preprocessing.LabelEncoder.html><br>\n",
    "<https://chrisalbon.com/machine_learning/preprocessing_structured_data/convert_pandas_categorical_column_into_integers_for_scikit-learn/>\n",
    "<p>Let's create our dataframe from final_df.csv that was made in West Nile Predictor - Creation of Final Dataframe.ipynb. Let's also turn the string values of trap into increment values using LabelEncoder. If we don't do this then random forest gives us an error: ValueError: could not convert string to float: 'T011'\" (that's the first value in trap).</p>\n",
    "<p>We are also going to have to oversample the minority 'yes'/1 for WnvPresent since our dataset is unbalanced their is a greatly misrepresented minority and an over represented majority ('no'/0). This will allow us to have ML that predicts yes or no to West Nile Virus and not yes to 'no West Nile Virus'.</p>"
   ]
  },
  {
   "cell_type": "code",
   "execution_count": 49,
   "metadata": {},
   "outputs": [],
   "source": [
    "final_df = pd.read_csv('final_df.csv')"
   ]
  },
  {
   "cell_type": "code",
   "execution_count": 50,
   "metadata": {},
   "outputs": [],
   "source": [
    "#for future use in ML algorithms\n",
    "accuracy_list = []"
   ]
  },
  {
   "cell_type": "markdown",
   "metadata": {},
   "source": [
    "<https://docs.python.org/3/library/datetime.html#datetime.date.fromordinal> \n",
    "\n",
    "<p>date.toordinal is used to convert the dates that are interpreted as strings to ordinal values which are ints. This allows logistic regression to use them because it doesn't want strings. This also allows us to use the Date feature because before it was dropped entirely.</p>"
   ]
  },
  {
   "cell_type": "code",
   "execution_count": 51,
   "metadata": {},
   "outputs": [
    {
     "name": "stdout",
     "output_type": "stream",
     "text": [
      "['T001' 'T002' 'T003' 'T004' 'T005' 'T006' 'T007' 'T008' 'T009' 'T011'\n",
      " 'T012' 'T013' 'T014' 'T015' 'T016' 'T017' 'T018' 'T019' 'T025' 'T027'\n",
      " 'T028' 'T030' 'T031' 'T033' 'T034' 'T035' 'T036' 'T037' 'T039' 'T040'\n",
      " 'T043' 'T044' 'T045' 'T046' 'T047' 'T048' 'T049' 'T050' 'T051' 'T054'\n",
      " 'T054C' 'T060' 'T061' 'T062' 'T063' 'T065' 'T066' 'T067' 'T069' 'T070'\n",
      " 'T071' 'T072' 'T073' 'T074' 'T075' 'T076' 'T077' 'T078' 'T079' 'T080'\n",
      " 'T081' 'T082' 'T083' 'T084' 'T085' 'T086' 'T088' 'T089' 'T090' 'T091'\n",
      " 'T092' 'T094' 'T094B' 'T095' 'T096' 'T097' 'T099' 'T100' 'T102' 'T103'\n",
      " 'T107' 'T114' 'T115' 'T128' 'T129' 'T135' 'T138' 'T141' 'T142' 'T143'\n",
      " 'T144' 'T145' 'T146' 'T147' 'T148' 'T149' 'T150' 'T151' 'T152' 'T153'\n",
      " 'T154' 'T155' 'T156' 'T157' 'T158' 'T159' 'T160' 'T161' 'T162' 'T200'\n",
      " 'T206' 'T209' 'T212' 'T215' 'T218' 'T219' 'T220' 'T221' 'T222' 'T223'\n",
      " 'T224' 'T225' 'T226' 'T227' 'T228' 'T229' 'T230' 'T231' 'T232' 'T233'\n",
      " 'T235' 'T236' 'T237' 'T238' 'T900' 'T903']\n",
      "<class 'pandas.core.frame.DataFrame'>\n",
      "RangeIndex: 8890 entries, 0 to 8889\n",
      "Data columns (total 40 columns):\n",
      "Trap                      8890 non-null int64\n",
      "Latitude                  8890 non-null float64\n",
      "Longitude                 8890 non-null float64\n",
      "NumMosquitos              8890 non-null float64\n",
      "WnvPresent                8890 non-null int64\n",
      "CULEX ERRATICUS           8890 non-null int64\n",
      "CULEX PIPIENS             8890 non-null int64\n",
      "CULEX PIPIENS/RESTUANS    8890 non-null int64\n",
      "CULEX RESTUANS            8890 non-null int64\n",
      "CULEX SALINARIUS          8890 non-null int64\n",
      "CULEX TARSALIS            8890 non-null int64\n",
      "CULEX TERRITANS           8890 non-null int64\n",
      "Tmax                      8890 non-null float64\n",
      "Tmin                      8890 non-null float64\n",
      "Tavg                      8890 non-null float64\n",
      "Depart                    8890 non-null float64\n",
      "DewPoint                  8890 non-null float64\n",
      "WetBulb                   8890 non-null float64\n",
      "Heat                      8890 non-null float64\n",
      "Cool                      8890 non-null float64\n",
      "Depth                     8890 non-null float64\n",
      "PrecipTotal               8890 non-null float64\n",
      "StnPressure               8890 non-null float64\n",
      "SeaLevel                  8890 non-null float64\n",
      "ResultSpeed               8890 non-null float64\n",
      "ResultDir                 8890 non-null float64\n",
      "AvgSpeed                  8890 non-null float64\n",
      "<= 90 days                8890 non-null int64\n",
      "<= 183 days               8890 non-null int64\n",
      "<= 365 days               8890 non-null int64\n",
      "<= 730 days               8890 non-null int64\n",
      "> 730 days                8890 non-null int64\n",
      "<= 1/2 mile               8890 non-null int64\n",
      "<= 1 mile                 8890 non-null int64\n",
      "<= 3 miles                8890 non-null int64\n",
      "<= 5 miles                8890 non-null int64\n",
      "> 5 miles                 8890 non-null int64\n",
      "Station 1                 8890 non-null int64\n",
      "Station 2                 8890 non-null int64\n",
      "Date Ordinal              8890 non-null int64\n",
      "dtypes: float64(18), int64(22)\n",
      "memory usage: 2.7 MB\n"
     ]
    },
    {
     "data": {
      "text/html": [
       "<div>\n",
       "<style scoped>\n",
       "    .dataframe tbody tr th:only-of-type {\n",
       "        vertical-align: middle;\n",
       "    }\n",
       "\n",
       "    .dataframe tbody tr th {\n",
       "        vertical-align: top;\n",
       "    }\n",
       "\n",
       "    .dataframe thead th {\n",
       "        text-align: right;\n",
       "    }\n",
       "</style>\n",
       "<table border=\"1\" class=\"dataframe\">\n",
       "  <thead>\n",
       "    <tr style=\"text-align: right;\">\n",
       "      <th></th>\n",
       "      <th>Trap</th>\n",
       "      <th>Latitude</th>\n",
       "      <th>Longitude</th>\n",
       "      <th>NumMosquitos</th>\n",
       "      <th>WnvPresent</th>\n",
       "      <th>CULEX ERRATICUS</th>\n",
       "      <th>CULEX PIPIENS</th>\n",
       "      <th>CULEX PIPIENS/RESTUANS</th>\n",
       "      <th>CULEX RESTUANS</th>\n",
       "      <th>CULEX SALINARIUS</th>\n",
       "      <th>...</th>\n",
       "      <th>&lt;= 730 days</th>\n",
       "      <th>&gt; 730 days</th>\n",
       "      <th>&lt;= 1/2 mile</th>\n",
       "      <th>&lt;= 1 mile</th>\n",
       "      <th>&lt;= 3 miles</th>\n",
       "      <th>&lt;= 5 miles</th>\n",
       "      <th>&gt; 5 miles</th>\n",
       "      <th>Station 1</th>\n",
       "      <th>Station 2</th>\n",
       "      <th>Date Ordinal</th>\n",
       "    </tr>\n",
       "  </thead>\n",
       "  <tbody>\n",
       "    <tr>\n",
       "      <td>0</td>\n",
       "      <td>1</td>\n",
       "      <td>41.954690</td>\n",
       "      <td>-87.800991</td>\n",
       "      <td>1.0</td>\n",
       "      <td>0</td>\n",
       "      <td>0</td>\n",
       "      <td>0</td>\n",
       "      <td>1</td>\n",
       "      <td>0</td>\n",
       "      <td>0</td>\n",
       "      <td>...</td>\n",
       "      <td>0</td>\n",
       "      <td>0</td>\n",
       "      <td>0</td>\n",
       "      <td>0</td>\n",
       "      <td>0</td>\n",
       "      <td>0</td>\n",
       "      <td>0</td>\n",
       "      <td>1</td>\n",
       "      <td>0</td>\n",
       "      <td>732825</td>\n",
       "    </tr>\n",
       "    <tr>\n",
       "      <td>1</td>\n",
       "      <td>1</td>\n",
       "      <td>41.954690</td>\n",
       "      <td>-87.800991</td>\n",
       "      <td>1.0</td>\n",
       "      <td>0</td>\n",
       "      <td>0</td>\n",
       "      <td>0</td>\n",
       "      <td>0</td>\n",
       "      <td>1</td>\n",
       "      <td>0</td>\n",
       "      <td>...</td>\n",
       "      <td>0</td>\n",
       "      <td>0</td>\n",
       "      <td>0</td>\n",
       "      <td>0</td>\n",
       "      <td>0</td>\n",
       "      <td>0</td>\n",
       "      <td>0</td>\n",
       "      <td>1</td>\n",
       "      <td>0</td>\n",
       "      <td>732825</td>\n",
       "    </tr>\n",
       "    <tr>\n",
       "      <td>2</td>\n",
       "      <td>6</td>\n",
       "      <td>41.994991</td>\n",
       "      <td>-87.769279</td>\n",
       "      <td>1.0</td>\n",
       "      <td>0</td>\n",
       "      <td>0</td>\n",
       "      <td>0</td>\n",
       "      <td>0</td>\n",
       "      <td>1</td>\n",
       "      <td>0</td>\n",
       "      <td>...</td>\n",
       "      <td>0</td>\n",
       "      <td>0</td>\n",
       "      <td>0</td>\n",
       "      <td>0</td>\n",
       "      <td>0</td>\n",
       "      <td>0</td>\n",
       "      <td>0</td>\n",
       "      <td>1</td>\n",
       "      <td>0</td>\n",
       "      <td>732825</td>\n",
       "    </tr>\n",
       "  </tbody>\n",
       "</table>\n",
       "<p>3 rows × 40 columns</p>\n",
       "</div>"
      ],
      "text/plain": [
       "   Trap   Latitude  Longitude  NumMosquitos  WnvPresent  CULEX ERRATICUS  \\\n",
       "0     1  41.954690 -87.800991           1.0           0                0   \n",
       "1     1  41.954690 -87.800991           1.0           0                0   \n",
       "2     6  41.994991 -87.769279           1.0           0                0   \n",
       "\n",
       "   CULEX PIPIENS  CULEX PIPIENS/RESTUANS  CULEX RESTUANS  CULEX SALINARIUS  \\\n",
       "0              0                       1               0                 0   \n",
       "1              0                       0               1                 0   \n",
       "2              0                       0               1                 0   \n",
       "\n",
       "   ...  <= 730 days  > 730 days  <= 1/2 mile  <= 1 mile  <= 3 miles  \\\n",
       "0  ...            0           0            0          0           0   \n",
       "1  ...            0           0            0          0           0   \n",
       "2  ...            0           0            0          0           0   \n",
       "\n",
       "   <= 5 miles  > 5 miles  Station 1  Station 2  Date Ordinal  \n",
       "0           0          0          1          0        732825  \n",
       "1           0          0          1          0        732825  \n",
       "2           0          0          1          0        732825  \n",
       "\n",
       "[3 rows x 40 columns]"
      ]
     },
     "metadata": {},
     "output_type": "display_data"
    },
    {
     "data": {
      "text/plain": [
       "None"
      ]
     },
     "metadata": {},
     "output_type": "display_data"
    }
   ],
   "source": [
    "#create a label (category) encoder object\n",
    "le = preprocessing.LabelEncoder()\n",
    "\n",
    "#fit the encoder to the pandas column\n",
    "le.fit(list(final_df['Trap'].values))\n",
    "\n",
    "#view labels\n",
    "print(le.classes_)\n",
    "\n",
    "#apply the fitted encoder to the pandas columns\n",
    "final_df['Trap'] = le.transform(list(final_df['Trap'].values))\n",
    "\n",
    "#add a column that holds the ordinal versions of our dates\n",
    "final_df['Date Ordinal'] = pd.to_datetime(final_df['Date']).apply(lambda date: date.toordinal())\n",
    "\n",
    "#dropping date since random forest won't work with datetime and wants it as a float or int\n",
    "#we have the ordinal versions now that are ints\n",
    "final_df.drop('Date', axis=1, inplace=True)\n",
    "\n",
    "#The majority being trace snow, originally 'T' in the original weather.csv\n",
    "#'T' or 0.05 being a small minority with the majority being 0\n",
    "final_df.drop('SnowFall', axis=1, inplace=True)\n",
    "\n",
    "#columns to change from float64 to int64\n",
    "cols_to_int = ['WnvPresent', 'CULEX ERRATICUS', 'CULEX PIPIENS', 'CULEX PIPIENS/RESTUANS', 'CULEX RESTUANS', 'CULEX SALINARIUS',\n",
    "               'CULEX TARSALIS', 'CULEX TERRITANS', '<= 90 days', '<= 183 days', '<= 365 days', '<= 730 days', '> 730 days',\n",
    "              '<= 1/2 mile', '<= 1 mile', '<= 3 miles', '<= 5 miles', '> 5 miles']\n",
    "\n",
    "#changing features type to int64\n",
    "final_df[cols_to_int] = final_df[cols_to_int].astype('int64')\n",
    "\n",
    "display(final_df.head(3), final_df.info())\n",
    "\n"
   ]
  },
  {
   "cell_type": "markdown",
   "metadata": {},
   "source": [
    "Let's create our feature matrix and label vector. Train and test then get our prediction. Remember this is the train data set first given to us by the kaggle competition. The 'test' data set is for creating a prediction that we were suppose to submit as part of the contest. "
   ]
  },
  {
   "cell_type": "code",
   "execution_count": 52,
   "metadata": {},
   "outputs": [
    {
     "data": {
      "text/html": [
       "<div>\n",
       "<style scoped>\n",
       "    .dataframe tbody tr th:only-of-type {\n",
       "        vertical-align: middle;\n",
       "    }\n",
       "\n",
       "    .dataframe tbody tr th {\n",
       "        vertical-align: top;\n",
       "    }\n",
       "\n",
       "    .dataframe thead th {\n",
       "        text-align: right;\n",
       "    }\n",
       "</style>\n",
       "<table border=\"1\" class=\"dataframe\">\n",
       "  <thead>\n",
       "    <tr style=\"text-align: right;\">\n",
       "      <th></th>\n",
       "      <th>&lt;= 1 mile</th>\n",
       "      <th>&lt;= 1/2 mile</th>\n",
       "      <th>&lt;= 183 days</th>\n",
       "      <th>&lt;= 3 miles</th>\n",
       "      <th>&lt;= 365 days</th>\n",
       "      <th>&lt;= 5 miles</th>\n",
       "      <th>&lt;= 730 days</th>\n",
       "      <th>&lt;= 90 days</th>\n",
       "      <th>&gt; 5 miles</th>\n",
       "      <th>&gt; 730 days</th>\n",
       "      <th>...</th>\n",
       "      <th>ResultSpeed</th>\n",
       "      <th>SeaLevel</th>\n",
       "      <th>Station 1</th>\n",
       "      <th>Station 2</th>\n",
       "      <th>StnPressure</th>\n",
       "      <th>Tavg</th>\n",
       "      <th>Tmax</th>\n",
       "      <th>Tmin</th>\n",
       "      <th>Trap</th>\n",
       "      <th>WetBulb</th>\n",
       "    </tr>\n",
       "  </thead>\n",
       "  <tbody>\n",
       "    <tr>\n",
       "      <td>0</td>\n",
       "      <td>0</td>\n",
       "      <td>0</td>\n",
       "      <td>0</td>\n",
       "      <td>0</td>\n",
       "      <td>0</td>\n",
       "      <td>0</td>\n",
       "      <td>0</td>\n",
       "      <td>0</td>\n",
       "      <td>0</td>\n",
       "      <td>0</td>\n",
       "      <td>...</td>\n",
       "      <td>5.8</td>\n",
       "      <td>30.11</td>\n",
       "      <td>1</td>\n",
       "      <td>0</td>\n",
       "      <td>29.39</td>\n",
       "      <td>74.0</td>\n",
       "      <td>88.0</td>\n",
       "      <td>60.0</td>\n",
       "      <td>1</td>\n",
       "      <td>65.0</td>\n",
       "    </tr>\n",
       "    <tr>\n",
       "      <td>1</td>\n",
       "      <td>0</td>\n",
       "      <td>0</td>\n",
       "      <td>0</td>\n",
       "      <td>0</td>\n",
       "      <td>0</td>\n",
       "      <td>0</td>\n",
       "      <td>0</td>\n",
       "      <td>0</td>\n",
       "      <td>0</td>\n",
       "      <td>0</td>\n",
       "      <td>...</td>\n",
       "      <td>5.8</td>\n",
       "      <td>30.11</td>\n",
       "      <td>1</td>\n",
       "      <td>0</td>\n",
       "      <td>29.39</td>\n",
       "      <td>74.0</td>\n",
       "      <td>88.0</td>\n",
       "      <td>60.0</td>\n",
       "      <td>1</td>\n",
       "      <td>65.0</td>\n",
       "    </tr>\n",
       "    <tr>\n",
       "      <td>2</td>\n",
       "      <td>0</td>\n",
       "      <td>0</td>\n",
       "      <td>0</td>\n",
       "      <td>0</td>\n",
       "      <td>0</td>\n",
       "      <td>0</td>\n",
       "      <td>0</td>\n",
       "      <td>0</td>\n",
       "      <td>0</td>\n",
       "      <td>0</td>\n",
       "      <td>...</td>\n",
       "      <td>5.8</td>\n",
       "      <td>30.11</td>\n",
       "      <td>1</td>\n",
       "      <td>0</td>\n",
       "      <td>29.39</td>\n",
       "      <td>74.0</td>\n",
       "      <td>88.0</td>\n",
       "      <td>60.0</td>\n",
       "      <td>6</td>\n",
       "      <td>65.0</td>\n",
       "    </tr>\n",
       "  </tbody>\n",
       "</table>\n",
       "<p>3 rows × 39 columns</p>\n",
       "</div>"
      ],
      "text/plain": [
       "   <= 1 mile  <= 1/2 mile  <= 183 days  <= 3 miles  <= 365 days  <= 5 miles  \\\n",
       "0          0            0            0           0            0           0   \n",
       "1          0            0            0           0            0           0   \n",
       "2          0            0            0           0            0           0   \n",
       "\n",
       "   <= 730 days  <= 90 days  > 5 miles  > 730 days  ...  ResultSpeed  SeaLevel  \\\n",
       "0            0           0          0           0  ...          5.8     30.11   \n",
       "1            0           0          0           0  ...          5.8     30.11   \n",
       "2            0           0          0           0  ...          5.8     30.11   \n",
       "\n",
       "   Station 1  Station 2  StnPressure  Tavg  Tmax  Tmin  Trap  WetBulb  \n",
       "0          1          0        29.39  74.0  88.0  60.0     1     65.0  \n",
       "1          1          0        29.39  74.0  88.0  60.0     1     65.0  \n",
       "2          1          0        29.39  74.0  88.0  60.0     6     65.0  \n",
       "\n",
       "[3 rows x 39 columns]"
      ]
     },
     "metadata": {},
     "output_type": "display_data"
    },
    {
     "data": {
      "text/plain": [
       "0    0\n",
       "1    0\n",
       "2    0\n",
       "Name: WnvPresent, dtype: int64"
      ]
     },
     "metadata": {},
     "output_type": "display_data"
    }
   ],
   "source": [
    "feature_columns = final_df.columns.difference(['WnvPresent'])\n",
    "\n",
    "X = final_df[feature_columns]\n",
    "\n",
    "y = final_df['WnvPresent']\n",
    "\n",
    "display(X.head(3), y.head(3))"
   ]
  },
  {
   "cell_type": "code",
   "execution_count": 53,
   "metadata": {},
   "outputs": [
    {
     "name": "stdout",
     "output_type": "stream",
     "text": [
      "X_train:  (6223, 39)\n",
      "y_train:  (6223,)\n",
      "X_test:  (2667, 39)\n",
      "y_test:  (2667,)\n",
      "\n",
      "Value count of y_test:\n",
      "0    2534\n",
      "1     133\n",
      "Name: WnvPresent, dtype: int64\n"
     ]
    }
   ],
   "source": [
    "# Randomly splitting the original dataset into training set and testing set:\n",
    "#Test size 30% Train size 70% \n",
    "X_train, X_test, y_train, y_test = train_test_split(X, y, test_size=0.3, random_state=2)\n",
    "\n",
    "# print the size of the traning set:\n",
    "print(\"X_train: \", X_train.shape)\n",
    "print(\"y_train: \", y_train.shape)\n",
    "\n",
    "# print the size of the testing set:\n",
    "print(\"X_test: \", X_test.shape)\n",
    "print(\"y_test: \", y_test.shape)\n",
    "\n",
    "print(\"\\nValue count of y_test:\")\n",
    "print(y_test.value_counts())"
   ]
  },
  {
   "cell_type": "markdown",
   "metadata": {},
   "source": [
    "<span style=\"color:red\"><b>WARNING!</b></span><br>\n",
    "<https://towardsdatascience.com/handling-imbalanced-datasets-in-deep-learning-f48407a0e758><br>\n",
    "<https://beckernick.github.io/oversampling-modeling/>\n",
    "<p>Edit: this was figured out after everything else was coded. Notice how the mean for train is 5%. This means that 5% of the time the ML algorithm is taught to say 'yes' or '1' to West Nile Virus and 95% of the time is taught to say 'no' or '0'. This is why we are getting 95% accuracy for all classification ML. It's not predicting the virus, it's telling us how accurate it can say no or 0.</p>\n",
    "<p>This is happening because of unbalanced data. Our minority, 1, is under represented while our majority, 0, is over representented. What needs to happen is a resampling of random data that gives us an equal representation of our majority and minority.</p>"
   ]
  },
  {
   "cell_type": "code",
   "execution_count": 54,
   "metadata": {},
   "outputs": [
    {
     "name": "stdout",
     "output_type": "stream",
     "text": [
      "0.0527076972521292\n",
      "\n",
      "Value count of y_test:\n",
      "\n",
      "0    5895\n",
      "1     328\n",
      "Name: WnvPresent, dtype: int64\n"
     ]
    }
   ],
   "source": [
    "print(y_train.mean())\n",
    "print(\"\\nValue count of y_test:\\n\")\n",
    "print(y_train.value_counts())"
   ]
  },
  {
   "cell_type": "markdown",
   "metadata": {},
   "source": [
    "<https://imbalanced-learn.readthedocs.io/en/stable/over_sampling.html>\n",
    "<p>Let's perform some random over-sampling to generate new samples to use in our ML algorithms. We want 50% yes and 50% no for our resampled X and y.</p>"
   ]
  },
  {
   "cell_type": "code",
   "execution_count": 55,
   "metadata": {},
   "outputs": [
    {
     "name": "stdout",
     "output_type": "stream",
     "text": [
      "Value count of Label Vector y: \n",
      "0    8429\n",
      "1     461\n",
      "Name: WnvPresent, dtype: int64\n",
      "\n",
      "Value count of y_resampled: \n",
      "1    8429\n",
      "0    8429\n",
      "Name: WnvPresent, dtype: int64\n"
     ]
    }
   ],
   "source": [
    "X_resampled, y_resampled = SMOTE().fit_resample(X, y)\n",
    "\n",
    "print(\"Value count of Label Vector y: \") \n",
    "print(y.value_counts())\n",
    "print(\"\\nValue count of y_resampled: \")\n",
    "print(y_resampled.value_counts())"
   ]
  },
  {
   "cell_type": "code",
   "execution_count": 56,
   "metadata": {},
   "outputs": [
    {
     "name": "stdout",
     "output_type": "stream",
     "text": [
      "<class 'pandas.core.frame.DataFrame'>\n",
      "RangeIndex: 16858 entries, 0 to 16857\n",
      "Data columns (total 39 columns):\n",
      "<= 1 mile                 16858 non-null int64\n",
      "<= 1/2 mile               16858 non-null int64\n",
      "<= 183 days               16858 non-null int64\n",
      "<= 3 miles                16858 non-null int64\n",
      "<= 365 days               16858 non-null int64\n",
      "<= 5 miles                16858 non-null int64\n",
      "<= 730 days               16858 non-null int64\n",
      "<= 90 days                16858 non-null int64\n",
      "> 5 miles                 16858 non-null int64\n",
      "> 730 days                16858 non-null int64\n",
      "AvgSpeed                  16858 non-null float64\n",
      "CULEX ERRATICUS           16858 non-null int64\n",
      "CULEX PIPIENS             16858 non-null int64\n",
      "CULEX PIPIENS/RESTUANS    16858 non-null int64\n",
      "CULEX RESTUANS            16858 non-null int64\n",
      "CULEX SALINARIUS          16858 non-null int64\n",
      "CULEX TARSALIS            16858 non-null int64\n",
      "CULEX TERRITANS           16858 non-null int64\n",
      "Cool                      16858 non-null float64\n",
      "Date Ordinal              16858 non-null int64\n",
      "Depart                    16858 non-null float64\n",
      "Depth                     16858 non-null float64\n",
      "DewPoint                  16858 non-null float64\n",
      "Heat                      16858 non-null float64\n",
      "Latitude                  16858 non-null float64\n",
      "Longitude                 16858 non-null float64\n",
      "NumMosquitos              16858 non-null float64\n",
      "PrecipTotal               16858 non-null float64\n",
      "ResultDir                 16858 non-null float64\n",
      "ResultSpeed               16858 non-null float64\n",
      "SeaLevel                  16858 non-null float64\n",
      "Station 1                 16858 non-null int64\n",
      "Station 2                 16858 non-null int64\n",
      "StnPressure               16858 non-null float64\n",
      "Tavg                      16858 non-null float64\n",
      "Tmax                      16858 non-null float64\n",
      "Tmin                      16858 non-null float64\n",
      "Trap                      16858 non-null int64\n",
      "WetBulb                   16858 non-null float64\n",
      "dtypes: float64(18), int64(21)\n",
      "memory usage: 5.0 MB\n"
     ]
    }
   ],
   "source": [
    "X_resampled.info()"
   ]
  },
  {
   "cell_type": "markdown",
   "metadata": {},
   "source": [
    "<p>Let's test, train, and split with the new resampled X and y.</p>"
   ]
  },
  {
   "cell_type": "code",
   "execution_count": 57,
   "metadata": {},
   "outputs": [
    {
     "name": "stdout",
     "output_type": "stream",
     "text": [
      "X_train:  (11800, 39)\n",
      "y_train:  (11800,)\n",
      "X_test:  (5058, 39)\n",
      "y_test:  (5058,)\n"
     ]
    }
   ],
   "source": [
    "X_train, X_test, y_train, y_test = train_test_split(X_resampled, y_resampled, test_size=0.3, random_state=2)\n",
    "\n",
    "# print the size of the traning set:\n",
    "print(\"X_train: \", X_train.shape)\n",
    "print(\"y_train: \", y_train.shape)\n",
    "\n",
    "# print the size of the testing set:\n",
    "print(\"X_test: \", X_test.shape)\n",
    "print(\"y_test: \", y_test.shape)"
   ]
  },
  {
   "cell_type": "code",
   "execution_count": 58,
   "metadata": {},
   "outputs": [],
   "source": [
    "#X_resampled['SnowFall'].value_counts()"
   ]
  },
  {
   "cell_type": "markdown",
   "metadata": {},
   "source": [
    "### Logistic Regression"
   ]
  },
  {
   "cell_type": "code",
   "execution_count": 59,
   "metadata": {},
   "outputs": [
    {
     "name": "stdout",
     "output_type": "stream",
     "text": [
      "[0 1 1 ... 0 1 1]\n"
     ]
    }
   ],
   "source": [
    "my_logreg = LogisticRegression(solver='liblinear')\n",
    "\n",
    "# Training ONLY on the training set:\n",
    "my_logreg.fit(X_train, y_train)\n",
    "\n",
    "# Testing on the testing set:\n",
    "y_predict_lr = my_logreg.predict(X_test)\n",
    "print(y_predict_lr)"
   ]
  },
  {
   "cell_type": "code",
   "execution_count": 60,
   "metadata": {},
   "outputs": [
    {
     "name": "stdout",
     "output_type": "stream",
     "text": [
      "0.8786081455120601\n"
     ]
    }
   ],
   "source": [
    "# We can now compare the \"predicted labels\" for the Testing Set with its \"actual labels\" to evaluate the accuracy \n",
    "\n",
    "score_lr = accuracy_score(y_test, y_predict_lr)\n",
    "\n",
    "accuracy_list.append(('Logistic Regression', score_lr))\n",
    "\n",
    "print(score_lr)"
   ]
  },
  {
   "cell_type": "code",
   "execution_count": 61,
   "metadata": {},
   "outputs": [],
   "source": [
    "# Predicting the Binary Label:\n",
    "y_predict_lr = my_logreg.predict(X_test)\n",
    "\n",
    "# Estimating the probability (likelihood) of Each Label: \n",
    "y_predict_prob_lr = my_logreg.predict_proba(X_test)"
   ]
  },
  {
   "cell_type": "code",
   "execution_count": 62,
   "metadata": {},
   "outputs": [
    {
     "name": "stdout",
     "output_type": "stream",
     "text": [
      "4178     0\n",
      "14984    1\n",
      "10749    1\n",
      "12940    1\n",
      "10961    1\n",
      "        ..\n",
      "15180    1\n",
      "15608    1\n",
      "7058     0\n",
      "13046    1\n",
      "16571    1\n",
      "Name: WnvPresent, Length: 5058, dtype: int64\n",
      "\n",
      " [0 1 1 ... 0 1 1]\n",
      "\n",
      " [[9.05050394e-01 9.49496056e-02]\n",
      " [8.89343649e-04 9.99110656e-01]\n",
      " [3.39184656e-02 9.66081534e-01]\n",
      " ...\n",
      " [5.10714760e-01 4.89285240e-01]\n",
      " [2.99558597e-02 9.70044140e-01]\n",
      " [1.03379250e-02 9.89662075e-01]]\n",
      "\n",
      " [0.09494961 0.99911066 0.96608153 ... 0.48928524 0.97004414 0.98966207]\n"
     ]
    }
   ],
   "source": [
    "# This line prints the \"actual label\" of the testing set:\n",
    "print(y_test)\n",
    "\n",
    "# This line prints the \"predicted label\" for the testing set:\n",
    "print(\"\\n\", y_predict_lr)\n",
    "\n",
    "# This line prints the \"estimated likelihood of both label\" for the testing set:\n",
    "print(\"\\n\", y_predict_prob_lr)\n",
    "\n",
    "# This line prints the \"estimated likelihood of label=1\" for the testing set:\n",
    "print(\"\\n\", y_predict_prob_lr[:,1])"
   ]
  },
  {
   "cell_type": "code",
   "execution_count": 63,
   "metadata": {},
   "outputs": [
    {
     "name": "stdout",
     "output_type": "stream",
     "text": [
      "[0.00000000e+00 0.00000000e+00 0.00000000e+00 0.00000000e+00\n",
      " 0.00000000e+00 0.00000000e+00 0.00000000e+00 0.00000000e+00\n",
      " 0.00000000e+00 0.00000000e+00 0.00000000e+00 0.00000000e+00\n",
      " 0.00000000e+00 0.00000000e+00 0.00000000e+00 0.00000000e+00\n",
      " 0.00000000e+00 3.97140588e-04 3.97140588e-04 7.94281176e-04\n",
      " 7.94281176e-04 1.19142176e-03 1.19142176e-03 1.58856235e-03\n",
      " 1.58856235e-03 1.98570294e-03 1.98570294e-03 2.38284353e-03\n",
      " 2.38284353e-03 2.77998411e-03 2.77998411e-03 3.17712470e-03\n",
      " 3.17712470e-03 3.57426529e-03 3.57426529e-03 3.97140588e-03\n",
      " 3.97140588e-03 4.36854647e-03 4.36854647e-03 4.76568705e-03\n",
      " 4.76568705e-03 5.16282764e-03 5.16282764e-03 5.55996823e-03\n",
      " 5.55996823e-03 5.95710882e-03 5.95710882e-03 6.35424940e-03\n",
      " 6.35424940e-03 6.75138999e-03 6.75138999e-03 7.14853058e-03\n",
      " 7.14853058e-03 7.54567117e-03 7.54567117e-03 7.94281176e-03\n",
      " 7.94281176e-03 8.33995234e-03 8.33995234e-03 8.73709293e-03\n",
      " 8.73709293e-03 9.13423352e-03 9.13423352e-03 9.53137411e-03\n",
      " 9.53137411e-03 9.92851469e-03 9.92851469e-03 1.07227959e-02\n",
      " 1.07227959e-02 1.11199365e-02 1.11199365e-02 1.15170770e-02\n",
      " 1.15170770e-02 1.19142176e-02 1.19142176e-02 1.23113582e-02\n",
      " 1.23113582e-02 1.27084988e-02 1.27084988e-02 1.31056394e-02\n",
      " 1.31056394e-02 1.38999206e-02 1.38999206e-02 1.42970612e-02\n",
      " 1.42970612e-02 1.50913423e-02 1.50913423e-02 1.54884829e-02\n",
      " 1.54884829e-02 1.58856235e-02 1.58856235e-02 1.62827641e-02\n",
      " 1.62827641e-02 1.66799047e-02 1.66799047e-02 1.74741859e-02\n",
      " 1.74741859e-02 1.78713264e-02 1.78713264e-02 1.82684670e-02\n",
      " 1.82684670e-02 1.86656076e-02 1.86656076e-02 1.90627482e-02\n",
      " 1.90627482e-02 1.94598888e-02 1.94598888e-02 1.98570294e-02\n",
      " 1.98570294e-02 2.02541700e-02 2.02541700e-02 2.06513106e-02\n",
      " 2.06513106e-02 2.10484512e-02 2.10484512e-02 2.14455917e-02\n",
      " 2.14455917e-02 2.18427323e-02 2.18427323e-02 2.22398729e-02\n",
      " 2.22398729e-02 2.26370135e-02 2.26370135e-02 2.30341541e-02\n",
      " 2.30341541e-02 2.38284353e-02 2.38284353e-02 2.42255759e-02\n",
      " 2.42255759e-02 2.46227164e-02 2.46227164e-02 2.50198570e-02\n",
      " 2.50198570e-02 2.54169976e-02 2.54169976e-02 2.58141382e-02\n",
      " 2.58141382e-02 2.62112788e-02 2.62112788e-02 2.66084194e-02\n",
      " 2.66084194e-02 2.70055600e-02 2.70055600e-02 2.74027006e-02\n",
      " 2.74027006e-02 2.77998411e-02 2.77998411e-02 2.85941223e-02\n",
      " 2.85941223e-02 2.89912629e-02 2.89912629e-02 2.93884035e-02\n",
      " 2.93884035e-02 2.97855441e-02 2.97855441e-02 3.01826847e-02\n",
      " 3.01826847e-02 3.05798253e-02 3.05798253e-02 3.09769658e-02\n",
      " 3.09769658e-02 3.13741064e-02 3.13741064e-02 3.17712470e-02\n",
      " 3.17712470e-02 3.21683876e-02 3.21683876e-02 3.25655282e-02\n",
      " 3.25655282e-02 3.29626688e-02 3.29626688e-02 3.33598094e-02\n",
      " 3.33598094e-02 3.37569500e-02 3.37569500e-02 3.41540905e-02\n",
      " 3.41540905e-02 3.45512311e-02 3.45512311e-02 3.49483717e-02\n",
      " 3.49483717e-02 3.53455123e-02 3.53455123e-02 3.57426529e-02\n",
      " 3.57426529e-02 3.61397935e-02 3.61397935e-02 3.65369341e-02\n",
      " 3.65369341e-02 3.69340747e-02 3.69340747e-02 3.81254964e-02\n",
      " 3.81254964e-02 3.85226370e-02 3.85226370e-02 3.89197776e-02\n",
      " 3.89197776e-02 3.93169182e-02 3.93169182e-02 4.01111994e-02\n",
      " 4.01111994e-02 4.09054805e-02 4.09054805e-02 4.16997617e-02\n",
      " 4.16997617e-02 4.20969023e-02 4.20969023e-02 4.24940429e-02\n",
      " 4.24940429e-02 4.28911835e-02 4.28911835e-02 4.32883241e-02\n",
      " 4.32883241e-02 4.36854647e-02 4.36854647e-02 4.44797458e-02\n",
      " 4.44797458e-02 4.52740270e-02 4.52740270e-02 4.56711676e-02\n",
      " 4.56711676e-02 4.60683082e-02 4.60683082e-02 4.68625894e-02\n",
      " 4.68625894e-02 4.72597299e-02 4.72597299e-02 4.76568705e-02\n",
      " 4.76568705e-02 4.80540111e-02 4.80540111e-02 4.84511517e-02\n",
      " 4.84511517e-02 4.88482923e-02 4.88482923e-02 4.92454329e-02\n",
      " 4.92454329e-02 4.96425735e-02 4.96425735e-02 5.00397141e-02\n",
      " 5.00397141e-02 5.08339952e-02 5.08339952e-02 5.16282764e-02\n",
      " 5.16282764e-02 5.20254170e-02 5.20254170e-02 5.24225576e-02\n",
      " 5.24225576e-02 5.28196982e-02 5.28196982e-02 5.32168388e-02\n",
      " 5.32168388e-02 5.36139793e-02 5.36139793e-02 5.40111199e-02\n",
      " 5.40111199e-02 5.44082605e-02 5.44082605e-02 5.55996823e-02\n",
      " 5.55996823e-02 5.59968229e-02 5.59968229e-02 5.71882446e-02\n",
      " 5.71882446e-02 5.75853852e-02 5.75853852e-02 5.79825258e-02\n",
      " 5.79825258e-02 5.83796664e-02 5.83796664e-02 5.87768070e-02\n",
      " 5.87768070e-02 5.91739476e-02 5.91739476e-02 6.03653693e-02\n",
      " 6.03653693e-02 6.07625099e-02 6.07625099e-02 6.15567911e-02\n",
      " 6.15567911e-02 6.27482129e-02 6.27482129e-02 6.31453535e-02\n",
      " 6.31453535e-02 6.35424940e-02 6.35424940e-02 6.39396346e-02\n",
      " 6.39396346e-02 6.43367752e-02 6.43367752e-02 6.47339158e-02\n",
      " 6.47339158e-02 6.51310564e-02 6.51310564e-02 6.59253376e-02\n",
      " 6.59253376e-02 6.63224782e-02 6.63224782e-02 6.79110405e-02\n",
      " 6.79110405e-02 6.83081811e-02 6.83081811e-02 6.87053217e-02\n",
      " 6.87053217e-02 6.91024623e-02 6.91024623e-02 6.94996029e-02\n",
      " 6.94996029e-02 7.02938840e-02 7.02938840e-02 7.06910246e-02\n",
      " 7.06910246e-02 7.30738681e-02 7.30738681e-02 7.50595711e-02\n",
      " 7.50595711e-02 7.58538523e-02 7.58538523e-02 7.62509929e-02\n",
      " 7.62509929e-02 7.66481334e-02 7.66481334e-02 7.70452740e-02\n",
      " 7.70452740e-02 7.82366958e-02 7.82366958e-02 7.98252581e-02\n",
      " 7.98252581e-02 8.14138205e-02 8.14138205e-02 8.18109611e-02\n",
      " 8.18109611e-02 8.22081017e-02 8.22081017e-02 8.30023828e-02\n",
      " 8.30023828e-02 8.33995234e-02 8.33995234e-02 8.37966640e-02\n",
      " 8.37966640e-02 8.45909452e-02 8.45909452e-02 8.49880858e-02\n",
      " 8.49880858e-02 8.53852264e-02 8.53852264e-02 8.57823670e-02\n",
      " 8.57823670e-02 8.73709293e-02 8.73709293e-02 8.85623511e-02\n",
      " 8.85623511e-02 8.89594917e-02 8.89594917e-02 8.97537728e-02\n",
      " 8.97537728e-02 9.05480540e-02 9.05480540e-02 9.09451946e-02\n",
      " 9.09451946e-02 9.13423352e-02 9.13423352e-02 9.17394758e-02\n",
      " 9.17394758e-02 9.21366164e-02 9.21366164e-02 9.25337569e-02\n",
      " 9.25337569e-02 9.37251787e-02 9.37251787e-02 9.49166005e-02\n",
      " 9.49166005e-02 9.61080222e-02 9.61080222e-02 9.65051628e-02\n",
      " 9.65051628e-02 9.69023034e-02 9.69023034e-02 9.96822875e-02\n",
      " 9.96822875e-02 1.00079428e-01 1.00079428e-01 1.01667990e-01\n",
      " 1.01667990e-01 1.02462272e-01 1.02462272e-01 1.03256553e-01\n",
      " 1.03256553e-01 1.04845115e-01 1.04845115e-01 1.07227959e-01\n",
      " 1.07227959e-01 1.07625099e-01 1.07625099e-01 1.08022240e-01\n",
      " 1.08022240e-01 1.08419380e-01 1.08419380e-01 1.10007943e-01\n",
      " 1.10007943e-01 1.10405083e-01 1.10405083e-01 1.11993646e-01\n",
      " 1.11993646e-01 1.12390786e-01 1.12390786e-01 1.12787927e-01\n",
      " 1.12787927e-01 1.13582208e-01 1.13582208e-01 1.13979349e-01\n",
      " 1.13979349e-01 1.15567911e-01 1.15567911e-01 1.17156473e-01\n",
      " 1.17156473e-01 1.17553614e-01 1.17553614e-01 1.17950755e-01\n",
      " 1.17950755e-01 1.20730739e-01 1.20730739e-01 1.21127879e-01\n",
      " 1.21127879e-01 1.21525020e-01 1.21525020e-01 1.22716442e-01\n",
      " 1.22716442e-01 1.23113582e-01 1.23113582e-01 1.23510723e-01\n",
      " 1.23510723e-01 1.23907863e-01 1.23907863e-01 1.24305004e-01\n",
      " 1.24305004e-01 1.24702145e-01 1.24702145e-01 1.25893566e-01\n",
      " 1.25893566e-01 1.27482129e-01 1.27482129e-01 1.28673550e-01\n",
      " 1.28673550e-01 1.29070691e-01 1.29070691e-01 1.29864972e-01\n",
      " 1.29864972e-01 1.31056394e-01 1.31056394e-01 1.32247816e-01\n",
      " 1.32247816e-01 1.32644956e-01 1.32644956e-01 1.33042097e-01\n",
      " 1.33042097e-01 1.33439237e-01 1.33439237e-01 1.33836378e-01\n",
      " 1.33836378e-01 1.34233519e-01 1.34233519e-01 1.34630659e-01\n",
      " 1.34630659e-01 1.35027800e-01 1.35027800e-01 1.35424940e-01\n",
      " 1.35424940e-01 1.35822081e-01 1.35822081e-01 1.36616362e-01\n",
      " 1.36616362e-01 1.37013503e-01 1.37013503e-01 1.38602065e-01\n",
      " 1.38602065e-01 1.40190627e-01 1.40190627e-01 1.40587768e-01\n",
      " 1.40587768e-01 1.41382049e-01 1.41382049e-01 1.43764893e-01\n",
      " 1.43764893e-01 1.44559174e-01 1.44559174e-01 1.44956315e-01\n",
      " 1.44956315e-01 1.46544877e-01 1.46544877e-01 1.47736299e-01\n",
      " 1.47736299e-01 1.48530580e-01 1.48530580e-01 1.50913423e-01\n",
      " 1.50913423e-01 1.51707705e-01 1.51707705e-01 1.52104845e-01\n",
      " 1.52104845e-01 1.52501986e-01 1.52501986e-01 1.53296267e-01\n",
      " 1.53296267e-01 1.54884829e-01 1.54884829e-01 1.56870532e-01\n",
      " 1.56870532e-01 1.57267673e-01 1.57267673e-01 1.58459095e-01\n",
      " 1.58459095e-01 1.58856235e-01 1.58856235e-01 1.59650516e-01\n",
      " 1.59650516e-01 1.60444797e-01 1.60444797e-01 1.60841938e-01\n",
      " 1.60841938e-01 1.61636219e-01 1.61636219e-01 1.63224782e-01\n",
      " 1.63621922e-01 1.63621922e-01 1.64416203e-01 1.64416203e-01\n",
      " 1.65210485e-01 1.65210485e-01 1.66799047e-01 1.66799047e-01\n",
      " 1.68387609e-01 1.68387609e-01 1.69579031e-01 1.69579031e-01\n",
      " 1.69976172e-01 1.69976172e-01 1.71961875e-01 1.71961875e-01\n",
      " 1.73153296e-01 1.73153296e-01 1.73550437e-01 1.73550437e-01\n",
      " 1.74344718e-01 1.74344718e-01 1.75138999e-01 1.75138999e-01\n",
      " 1.76727562e-01 1.76727562e-01 1.77124702e-01 1.77124702e-01\n",
      " 1.77918983e-01 1.77918983e-01 1.78713264e-01 1.78713264e-01\n",
      " 1.80301827e-01 1.80301827e-01 1.81493249e-01 1.81493249e-01\n",
      " 1.81890389e-01 1.81890389e-01 1.85861795e-01 1.85861795e-01\n",
      " 1.87053217e-01 1.87053217e-01 1.88244639e-01 1.88244639e-01\n",
      " 1.89833201e-01 1.89833201e-01 1.91818904e-01 1.91818904e-01\n",
      " 1.92216044e-01 1.92216044e-01 1.93010326e-01 1.93010326e-01\n",
      " 1.94201747e-01 1.94201747e-01 1.95790310e-01 1.95790310e-01\n",
      " 1.96187450e-01 1.96187450e-01 1.96981732e-01 1.96981732e-01\n",
      " 1.98967434e-01 1.98967434e-01 1.99761716e-01 1.99761716e-01\n",
      " 2.00555997e-01 2.00555997e-01 2.00953137e-01 2.00953137e-01\n",
      " 2.03733122e-01 2.03733122e-01 2.04130262e-01 2.04130262e-01\n",
      " 2.05718824e-01 2.05718824e-01 2.11675933e-01 2.11675933e-01\n",
      " 2.12073074e-01 2.12073074e-01 2.13661636e-01 2.13661636e-01\n",
      " 2.14853058e-01 2.14853058e-01 2.16044480e-01 2.16044480e-01\n",
      " 2.16441620e-01 2.16441620e-01 2.20015886e-01 2.20015886e-01\n",
      " 2.26370135e-01 2.26370135e-01 2.31930103e-01 2.31930103e-01\n",
      " 2.33121525e-01 2.33121525e-01 2.33518666e-01 2.33518666e-01\n",
      " 2.35107228e-01 2.35107228e-01 2.35901509e-01 2.35901509e-01\n",
      " 2.37092931e-01 2.37092931e-01 2.37490071e-01 2.37490071e-01\n",
      " 2.37887212e-01 2.37887212e-01 2.40667196e-01 2.40667196e-01\n",
      " 2.42652899e-01 2.42652899e-01 2.43844321e-01 2.43844321e-01\n",
      " 2.44638602e-01 2.44638602e-01 2.45830024e-01 2.45830024e-01\n",
      " 2.48212867e-01 2.48212867e-01 2.50595711e-01 2.50595711e-01\n",
      " 2.51389992e-01 2.51389992e-01 2.51787133e-01 2.51787133e-01\n",
      " 2.52184273e-01 2.52184273e-01 2.55361398e-01 2.55361398e-01\n",
      " 2.56552820e-01 2.56552820e-01 2.60524226e-01 2.60524226e-01\n",
      " 2.61715647e-01 2.61715647e-01 2.62112788e-01 2.62112788e-01\n",
      " 2.63304210e-01 2.63304210e-01 2.64495631e-01 2.64495631e-01\n",
      " 2.64892772e-01 2.64892772e-01 2.70849881e-01 2.70849881e-01\n",
      " 2.74821287e-01 2.74821287e-01 2.75218427e-01 2.75218427e-01\n",
      " 2.75615568e-01 2.75615568e-01 2.79586974e-01 2.79586974e-01\n",
      " 2.81969817e-01 2.81969817e-01 2.84749801e-01 2.84749801e-01\n",
      " 2.86338364e-01 2.86338364e-01 2.96266878e-01 2.96266878e-01\n",
      " 2.99444003e-01 2.99444003e-01 3.01032566e-01 3.01032566e-01\n",
      " 3.01429706e-01 3.01429706e-01 3.02621128e-01 3.02621128e-01\n",
      " 3.07783956e-01 3.07783956e-01 3.08181096e-01 3.08181096e-01\n",
      " 3.10166799e-01 3.10166799e-01 3.10563940e-01 3.10563940e-01\n",
      " 3.12946783e-01 3.12946783e-01 3.17712470e-01 3.17712470e-01\n",
      " 3.18506751e-01 3.18506751e-01 3.29229547e-01 3.29229547e-01\n",
      " 3.29626688e-01 3.29626688e-01 3.37172359e-01 3.37172359e-01\n",
      " 3.37966640e-01 3.37966640e-01 3.43526608e-01 3.43526608e-01\n",
      " 3.43923749e-01 3.43923749e-01 3.44320890e-01 3.44320890e-01\n",
      " 3.44718030e-01 3.44718030e-01 3.48292295e-01 3.48292295e-01\n",
      " 3.49086577e-01 3.49086577e-01 3.51072280e-01 3.51072280e-01\n",
      " 3.53852264e-01 3.53852264e-01 3.55440826e-01 3.55440826e-01\n",
      " 3.56632248e-01 3.56632248e-01 3.58220810e-01 3.58220810e-01\n",
      " 3.64972200e-01 3.64972200e-01 3.66560763e-01 3.66560763e-01\n",
      " 3.68546465e-01 3.68546465e-01 3.74503574e-01 3.74503574e-01\n",
      " 3.80460683e-01 3.80460683e-01 3.80857824e-01 3.80857824e-01\n",
      " 3.81652105e-01 3.81652105e-01 3.99920572e-01 3.99920572e-01\n",
      " 4.01111994e-01 4.01111994e-01 4.07466243e-01 4.07466243e-01\n",
      " 4.26528991e-01 4.26528991e-01 4.27323272e-01 4.27323272e-01\n",
      " 4.32486100e-01 4.32486100e-01 4.35266084e-01 4.35266084e-01\n",
      " 4.36060365e-01 4.36060365e-01 4.49563145e-01 4.49563145e-01\n",
      " 4.63463066e-01 4.63463066e-01 4.66243050e-01 4.66243050e-01\n",
      " 4.73391581e-01 4.73391581e-01 4.78554408e-01 4.78554408e-01\n",
      " 4.82128674e-01 4.82128674e-01 4.84511517e-01 4.84511517e-01\n",
      " 4.86894361e-01 4.86894361e-01 5.07545671e-01 5.07545671e-01\n",
      " 5.22239873e-01 5.22239873e-01 5.26608419e-01 5.26608419e-01\n",
      " 5.38522637e-01 5.38522637e-01 5.39316918e-01 5.39316918e-01\n",
      " 5.42494043e-01 5.42494043e-01 5.42891183e-01 5.42891183e-01\n",
      " 5.43685465e-01 5.43685465e-01 5.44479746e-01 5.44479746e-01\n",
      " 5.45671168e-01 5.45671168e-01 5.53613979e-01 5.53613979e-01\n",
      " 5.55996823e-01 5.55996823e-01 5.57188245e-01 5.57188245e-01\n",
      " 5.58379666e-01 5.58379666e-01 5.58776807e-01 5.58776807e-01\n",
      " 5.59571088e-01 5.59571088e-01 5.61953932e-01 5.61953932e-01\n",
      " 5.62748213e-01 5.62748213e-01 5.63145353e-01 5.63145353e-01\n",
      " 5.63542494e-01 5.63542494e-01 5.65528197e-01 5.65528197e-01\n",
      " 5.66719619e-01 5.66719619e-01 5.70691025e-01 5.70691025e-01\n",
      " 5.76250993e-01 5.76250993e-01 5.77839555e-01 5.77839555e-01\n",
      " 5.80619539e-01 5.80619539e-01 5.83399523e-01 5.83399523e-01\n",
      " 5.86576648e-01 5.86576648e-01 5.90150913e-01 5.90150913e-01\n",
      " 5.94916600e-01 5.94916600e-01 5.97696585e-01 5.97696585e-01\n",
      " 5.98888006e-01 5.98888006e-01 6.02065131e-01 6.02065131e-01\n",
      " 6.06036537e-01 6.06036537e-01 6.11596505e-01 6.11596505e-01\n",
      " 6.14376489e-01 6.14376489e-01 6.18347895e-01 6.18347895e-01\n",
      " 6.22319301e-01 6.22319301e-01 6.23510723e-01 6.23510723e-01\n",
      " 6.24702145e-01 6.24702145e-01 6.32247816e-01 6.32247816e-01\n",
      " 6.40190627e-01 6.40190627e-01 6.51707705e-01 6.51707705e-01\n",
      " 6.59650516e-01 6.59650516e-01 6.60444797e-01 6.60444797e-01\n",
      " 6.72756156e-01 6.72756156e-01 6.78713264e-01 6.78713264e-01\n",
      " 6.83081811e-01 6.83081811e-01 6.87450357e-01 6.87450357e-01\n",
      " 6.95393169e-01 6.95393169e-01 7.09293090e-01 7.09293090e-01\n",
      " 7.20015886e-01 7.20015886e-01 7.29944400e-01 7.29944400e-01\n",
      " 7.68069897e-01 7.68069897e-01 8.12946783e-01 8.12946783e-01\n",
      " 8.14932486e-01 8.14932486e-01 8.15329627e-01 8.15329627e-01\n",
      " 8.16123908e-01 8.16123908e-01 8.17712470e-01 8.17712470e-01\n",
      " 8.18506751e-01 8.18506751e-01 8.78474980e-01 8.78872121e-01\n",
      " 8.80460683e-01 8.80460683e-01 9.05480540e-01 9.05480540e-01\n",
      " 1.00000000e+00]\n",
      "[0.00000000e+00 3.93700787e-04 2.63779528e-02 2.71653543e-02\n",
      " 3.22834646e-02 3.34645669e-02 1.71653543e-01 1.72834646e-01\n",
      " 2.08267717e-01 2.09448819e-01 2.25984252e-01 2.26771654e-01\n",
      " 3.00787402e-01 3.01574803e-01 3.04724409e-01 3.05511811e-01\n",
      " 3.82677165e-01 3.82677165e-01 4.37401575e-01 4.37401575e-01\n",
      " 4.57874016e-01 4.57874016e-01 4.65748031e-01 4.65748031e-01\n",
      " 4.74803150e-01 4.74803150e-01 4.81889764e-01 4.81889764e-01\n",
      " 4.90157480e-01 4.90157480e-01 4.97244094e-01 4.97244094e-01\n",
      " 5.03937008e-01 5.03937008e-01 5.14960630e-01 5.14960630e-01\n",
      " 5.18897638e-01 5.18897638e-01 5.27952756e-01 5.27952756e-01\n",
      " 5.34645669e-01 5.34645669e-01 5.46456693e-01 5.46456693e-01\n",
      " 5.55905512e-01 5.55905512e-01 5.57086614e-01 5.57086614e-01\n",
      " 5.58267717e-01 5.58267717e-01 5.60236220e-01 5.60236220e-01\n",
      " 5.64566929e-01 5.64566929e-01 5.69291339e-01 5.69291339e-01\n",
      " 5.70078740e-01 5.70078740e-01 5.73622047e-01 5.73622047e-01\n",
      " 5.76377953e-01 5.76377953e-01 5.77165354e-01 5.77165354e-01\n",
      " 5.81889764e-01 5.81889764e-01 5.82283465e-01 5.82283465e-01\n",
      " 5.86220472e-01 5.86220472e-01 5.87007874e-01 5.87007874e-01\n",
      " 5.87795276e-01 5.87795276e-01 5.89763780e-01 5.89763780e-01\n",
      " 5.92125984e-01 5.92125984e-01 5.92519685e-01 5.92519685e-01\n",
      " 5.94488189e-01 5.94488189e-01 5.95275591e-01 5.95275591e-01\n",
      " 5.95669291e-01 5.95669291e-01 6.07086614e-01 6.07086614e-01\n",
      " 6.09842520e-01 6.09842520e-01 6.14173228e-01 6.14173228e-01\n",
      " 6.18503937e-01 6.18503937e-01 6.20078740e-01 6.20078740e-01\n",
      " 6.20472441e-01 6.20472441e-01 6.25196850e-01 6.25196850e-01\n",
      " 6.27559055e-01 6.27559055e-01 6.29527559e-01 6.29527559e-01\n",
      " 6.32677165e-01 6.32677165e-01 6.33464567e-01 6.33464567e-01\n",
      " 6.44881890e-01 6.44881890e-01 6.45275591e-01 6.45275591e-01\n",
      " 6.49212598e-01 6.49212598e-01 6.58267717e-01 6.58267717e-01\n",
      " 6.68110236e-01 6.68110236e-01 6.70866142e-01 6.70866142e-01\n",
      " 6.78740157e-01 6.78740157e-01 6.79133858e-01 6.79133858e-01\n",
      " 6.81496063e-01 6.81496063e-01 6.83070866e-01 6.83070866e-01\n",
      " 6.84645669e-01 6.84645669e-01 6.86220472e-01 6.86220472e-01\n",
      " 6.87401575e-01 6.87401575e-01 6.88188976e-01 6.88188976e-01\n",
      " 6.89370079e-01 6.89370079e-01 6.90551181e-01 6.90551181e-01\n",
      " 6.91338583e-01 6.91338583e-01 6.94488189e-01 6.94488189e-01\n",
      " 6.97244094e-01 6.97244094e-01 7.01968504e-01 7.01968504e-01\n",
      " 7.03149606e-01 7.03149606e-01 7.03543307e-01 7.03543307e-01\n",
      " 7.08661417e-01 7.08661417e-01 7.09842520e-01 7.09842520e-01\n",
      " 7.11417323e-01 7.11811024e-01 7.12204724e-01 7.12204724e-01\n",
      " 7.13779528e-01 7.13779528e-01 7.16535433e-01 7.16535433e-01\n",
      " 7.16929134e-01 7.16929134e-01 7.18503937e-01 7.18503937e-01\n",
      " 7.21653543e-01 7.21653543e-01 7.22440945e-01 7.22440945e-01\n",
      " 7.23622047e-01 7.23622047e-01 7.24803150e-01 7.24803150e-01\n",
      " 7.25590551e-01 7.25590551e-01 7.27952756e-01 7.27952756e-01\n",
      " 7.31496063e-01 7.31496063e-01 7.36614173e-01 7.36614173e-01\n",
      " 7.37795276e-01 7.37795276e-01 7.38976378e-01 7.38976378e-01\n",
      " 7.40944882e-01 7.40944882e-01 7.43700787e-01 7.43700787e-01\n",
      " 7.44094488e-01 7.44094488e-01 7.46850394e-01 7.46850394e-01\n",
      " 7.47637795e-01 7.47637795e-01 7.50787402e-01 7.50787402e-01\n",
      " 7.52362205e-01 7.52362205e-01 7.56692913e-01 7.56692913e-01\n",
      " 7.57086614e-01 7.57086614e-01 7.63385827e-01 7.63385827e-01\n",
      " 7.65748031e-01 7.65748031e-01 7.66929134e-01 7.66929134e-01\n",
      " 7.67716535e-01 7.67716535e-01 7.68503937e-01 7.68503937e-01\n",
      " 7.71653543e-01 7.71653543e-01 7.72440945e-01 7.72440945e-01\n",
      " 7.73622047e-01 7.73622047e-01 7.74015748e-01 7.74015748e-01\n",
      " 7.74409449e-01 7.74409449e-01 7.75590551e-01 7.75590551e-01\n",
      " 7.75984252e-01 7.75984252e-01 7.76771654e-01 7.76771654e-01\n",
      " 7.78740157e-01 7.78740157e-01 7.79921260e-01 7.79921260e-01\n",
      " 7.80314961e-01 7.80314961e-01 7.83070866e-01 7.83070866e-01\n",
      " 7.85039370e-01 7.85039370e-01 7.85433071e-01 7.85433071e-01\n",
      " 7.86220472e-01 7.86220472e-01 7.87401575e-01 7.87401575e-01\n",
      " 7.89763780e-01 7.89763780e-01 7.90551181e-01 7.90551181e-01\n",
      " 7.90944882e-01 7.90944882e-01 7.93307087e-01 7.93307087e-01\n",
      " 7.95669291e-01 7.95669291e-01 7.98425197e-01 7.98425197e-01\n",
      " 7.98818898e-01 7.98818898e-01 7.99212598e-01 7.99212598e-01\n",
      " 7.99606299e-01 7.99606299e-01 8.00393701e-01 8.00393701e-01\n",
      " 8.00787402e-01 8.00787402e-01 8.02755906e-01 8.02755906e-01\n",
      " 8.03543307e-01 8.03543307e-01 8.04724409e-01 8.04724409e-01\n",
      " 8.05118110e-01 8.05118110e-01 8.05511811e-01 8.05511811e-01\n",
      " 8.06692913e-01 8.06692913e-01 8.07086614e-01 8.07086614e-01\n",
      " 8.09055118e-01 8.09055118e-01 8.09842520e-01 8.09842520e-01\n",
      " 8.11811024e-01 8.11811024e-01 8.12598425e-01 8.12598425e-01\n",
      " 8.13779528e-01 8.13779528e-01 8.14173228e-01 8.14173228e-01\n",
      " 8.17322835e-01 8.17322835e-01 8.18110236e-01 8.18110236e-01\n",
      " 8.19291339e-01 8.19291339e-01 8.20078740e-01 8.20078740e-01\n",
      " 8.20866142e-01 8.20866142e-01 8.21259843e-01 8.21259843e-01\n",
      " 8.22047244e-01 8.22047244e-01 8.22834646e-01 8.22834646e-01\n",
      " 8.23228346e-01 8.23228346e-01 8.23622047e-01 8.23622047e-01\n",
      " 8.24015748e-01 8.24015748e-01 8.24409449e-01 8.24409449e-01\n",
      " 8.25590551e-01 8.25590551e-01 8.28740157e-01 8.28740157e-01\n",
      " 8.29921260e-01 8.29921260e-01 8.32283465e-01 8.32283465e-01\n",
      " 8.33070866e-01 8.33070866e-01 8.33464567e-01 8.33464567e-01\n",
      " 8.34645669e-01 8.34645669e-01 8.35433071e-01 8.35433071e-01\n",
      " 8.35826772e-01 8.35826772e-01 8.37795276e-01 8.37795276e-01\n",
      " 8.38976378e-01 8.38976378e-01 8.40944882e-01 8.40944882e-01\n",
      " 8.42125984e-01 8.42125984e-01 8.42913386e-01 8.42913386e-01\n",
      " 8.43700787e-01 8.43700787e-01 8.44094488e-01 8.44094488e-01\n",
      " 8.46062992e-01 8.46062992e-01 8.48818898e-01 8.48818898e-01\n",
      " 8.49212598e-01 8.49212598e-01 8.49606299e-01 8.49606299e-01\n",
      " 8.50393701e-01 8.50393701e-01 8.51968504e-01 8.51968504e-01\n",
      " 8.52755906e-01 8.52755906e-01 8.53543307e-01 8.53543307e-01\n",
      " 8.53937008e-01 8.53937008e-01 8.54724409e-01 8.54724409e-01\n",
      " 8.55905512e-01 8.55905512e-01 8.56692913e-01 8.56692913e-01\n",
      " 8.57086614e-01 8.57086614e-01 8.57874016e-01 8.57874016e-01\n",
      " 8.58661417e-01 8.58661417e-01 8.59842520e-01 8.59842520e-01\n",
      " 8.60629921e-01 8.60629921e-01 8.61417323e-01 8.61417323e-01\n",
      " 8.62598425e-01 8.62598425e-01 8.63779528e-01 8.63779528e-01\n",
      " 8.64173228e-01 8.64173228e-01 8.66141732e-01 8.66141732e-01\n",
      " 8.66535433e-01 8.66535433e-01 8.67322835e-01 8.67322835e-01\n",
      " 8.68503937e-01 8.68503937e-01 8.68897638e-01 8.68897638e-01\n",
      " 8.70078740e-01 8.70078740e-01 8.71259843e-01 8.71259843e-01\n",
      " 8.71653543e-01 8.71653543e-01 8.72047244e-01 8.72047244e-01\n",
      " 8.72440945e-01 8.72440945e-01 8.73228346e-01 8.73228346e-01\n",
      " 8.74015748e-01 8.74015748e-01 8.74409449e-01 8.74409449e-01\n",
      " 8.74803150e-01 8.74803150e-01 8.75196850e-01 8.75196850e-01\n",
      " 8.75984252e-01 8.75984252e-01 8.76377953e-01 8.76377953e-01\n",
      " 8.77559055e-01 8.77559055e-01 8.78346457e-01 8.78346457e-01\n",
      " 8.78740157e-01 8.78740157e-01 8.79527559e-01 8.79527559e-01\n",
      " 8.79921260e-01 8.79921260e-01 8.80314961e-01 8.80314961e-01\n",
      " 8.81496063e-01 8.81496063e-01 8.81889764e-01 8.81889764e-01\n",
      " 8.82283465e-01 8.82283465e-01 8.82677165e-01 8.82677165e-01\n",
      " 8.84645669e-01 8.84645669e-01 8.85826772e-01 8.85826772e-01\n",
      " 8.87795276e-01 8.87795276e-01 8.88188976e-01 8.88188976e-01\n",
      " 8.88976378e-01 8.88976378e-01 8.90157480e-01 8.90157480e-01\n",
      " 8.90944882e-01 8.90944882e-01 8.92125984e-01 8.92125984e-01\n",
      " 8.92519685e-01 8.92519685e-01 8.92913386e-01 8.92913386e-01\n",
      " 8.93307087e-01 8.93307087e-01 8.94094488e-01 8.94094488e-01\n",
      " 8.94488189e-01 8.94488189e-01 8.94881890e-01 8.94881890e-01\n",
      " 8.95669291e-01 8.95669291e-01 8.96062992e-01 8.96062992e-01\n",
      " 8.96456693e-01 8.96456693e-01 8.96850394e-01 8.96850394e-01\n",
      " 8.98425197e-01 8.98425197e-01 8.99212598e-01 8.99212598e-01\n",
      " 8.99606299e-01 8.99606299e-01 9.00393701e-01 9.00393701e-01\n",
      " 9.00787402e-01 9.00787402e-01 9.01181102e-01 9.01181102e-01\n",
      " 9.01574803e-01 9.01574803e-01 9.01968504e-01 9.01968504e-01\n",
      " 9.02755906e-01 9.02755906e-01 9.03149606e-01 9.03149606e-01\n",
      " 9.03543307e-01 9.03543307e-01 9.03937008e-01 9.03937008e-01\n",
      " 9.04724409e-01 9.04724409e-01 9.05118110e-01 9.05118110e-01\n",
      " 9.05511811e-01 9.05511811e-01 9.06299213e-01 9.06299213e-01\n",
      " 9.06692913e-01 9.06692913e-01 9.07086614e-01 9.07086614e-01\n",
      " 9.07480315e-01 9.07480315e-01 9.09448819e-01 9.09448819e-01\n",
      " 9.09842520e-01 9.10236220e-01 9.10236220e-01 9.10629921e-01\n",
      " 9.10629921e-01 9.11023622e-01 9.11023622e-01 9.11417323e-01\n",
      " 9.11417323e-01 9.11811024e-01 9.11811024e-01 9.12992126e-01\n",
      " 9.12992126e-01 9.13385827e-01 9.13385827e-01 9.13779528e-01\n",
      " 9.13779528e-01 9.14173228e-01 9.14173228e-01 9.14566929e-01\n",
      " 9.14566929e-01 9.14960630e-01 9.14960630e-01 9.15354331e-01\n",
      " 9.15354331e-01 9.15748031e-01 9.15748031e-01 9.16141732e-01\n",
      " 9.16141732e-01 9.16535433e-01 9.16535433e-01 9.16929134e-01\n",
      " 9.16929134e-01 9.17322835e-01 9.17322835e-01 9.17716535e-01\n",
      " 9.17716535e-01 9.18110236e-01 9.18110236e-01 9.18503937e-01\n",
      " 9.18503937e-01 9.18897638e-01 9.18897638e-01 9.19685039e-01\n",
      " 9.19685039e-01 9.20078740e-01 9.20078740e-01 9.20472441e-01\n",
      " 9.20472441e-01 9.20866142e-01 9.20866142e-01 9.21259843e-01\n",
      " 9.21259843e-01 9.21653543e-01 9.21653543e-01 9.22047244e-01\n",
      " 9.22047244e-01 9.23228346e-01 9.23228346e-01 9.23622047e-01\n",
      " 9.23622047e-01 9.24015748e-01 9.24015748e-01 9.25590551e-01\n",
      " 9.25590551e-01 9.25984252e-01 9.25984252e-01 9.26377953e-01\n",
      " 9.26377953e-01 9.26771654e-01 9.26771654e-01 9.27559055e-01\n",
      " 9.27559055e-01 9.27952756e-01 9.27952756e-01 9.28346457e-01\n",
      " 9.28346457e-01 9.28740157e-01 9.28740157e-01 9.29527559e-01\n",
      " 9.29527559e-01 9.29921260e-01 9.29921260e-01 9.30314961e-01\n",
      " 9.30314961e-01 9.30708661e-01 9.30708661e-01 9.31102362e-01\n",
      " 9.31102362e-01 9.31496063e-01 9.31496063e-01 9.31889764e-01\n",
      " 9.31889764e-01 9.32283465e-01 9.32283465e-01 9.33070866e-01\n",
      " 9.33070866e-01 9.33858268e-01 9.33858268e-01 9.35039370e-01\n",
      " 9.35039370e-01 9.35433071e-01 9.35433071e-01 9.36220472e-01\n",
      " 9.36220472e-01 9.36614173e-01 9.36614173e-01 9.37007874e-01\n",
      " 9.37007874e-01 9.37401575e-01 9.37401575e-01 9.37795276e-01\n",
      " 9.37795276e-01 9.38188976e-01 9.38188976e-01 9.38582677e-01\n",
      " 9.38582677e-01 9.38976378e-01 9.38976378e-01 9.39370079e-01\n",
      " 9.39370079e-01 9.39763780e-01 9.39763780e-01 9.40551181e-01\n",
      " 9.40551181e-01 9.40944882e-01 9.40944882e-01 9.41732283e-01\n",
      " 9.41732283e-01 9.42125984e-01 9.42125984e-01 9.42913386e-01\n",
      " 9.42913386e-01 9.43307087e-01 9.43307087e-01 9.43700787e-01\n",
      " 9.43700787e-01 9.44881890e-01 9.44881890e-01 9.45669291e-01\n",
      " 9.45669291e-01 9.46850394e-01 9.46850394e-01 9.47244094e-01\n",
      " 9.47244094e-01 9.47637795e-01 9.47637795e-01 9.48031496e-01\n",
      " 9.48031496e-01 9.48425197e-01 9.48425197e-01 9.48818898e-01\n",
      " 9.48818898e-01 9.49212598e-01 9.49212598e-01 9.49606299e-01\n",
      " 9.49606299e-01 9.50000000e-01 9.50000000e-01 9.50393701e-01\n",
      " 9.50393701e-01 9.50787402e-01 9.50787402e-01 9.51181102e-01\n",
      " 9.51181102e-01 9.51574803e-01 9.51574803e-01 9.51968504e-01\n",
      " 9.51968504e-01 9.52362205e-01 9.52362205e-01 9.53149606e-01\n",
      " 9.53149606e-01 9.53543307e-01 9.53543307e-01 9.53937008e-01\n",
      " 9.53937008e-01 9.54330709e-01 9.54330709e-01 9.54724409e-01\n",
      " 9.54724409e-01 9.55118110e-01 9.55118110e-01 9.55511811e-01\n",
      " 9.55511811e-01 9.55905512e-01 9.55905512e-01 9.56299213e-01\n",
      " 9.56299213e-01 9.56692913e-01 9.56692913e-01 9.57086614e-01\n",
      " 9.57086614e-01 9.57874016e-01 9.57874016e-01 9.58267717e-01\n",
      " 9.58267717e-01 9.59055118e-01 9.59055118e-01 9.59448819e-01\n",
      " 9.59448819e-01 9.59842520e-01 9.59842520e-01 9.60236220e-01\n",
      " 9.60236220e-01 9.60629921e-01 9.60629921e-01 9.61023622e-01\n",
      " 9.61023622e-01 9.61417323e-01 9.61417323e-01 9.61811024e-01\n",
      " 9.61811024e-01 9.62204724e-01 9.62204724e-01 9.62598425e-01\n",
      " 9.62598425e-01 9.63385827e-01 9.63385827e-01 9.63779528e-01\n",
      " 9.63779528e-01 9.64566929e-01 9.64566929e-01 9.65354331e-01\n",
      " 9.65354331e-01 9.65748031e-01 9.65748031e-01 9.66141732e-01\n",
      " 9.66141732e-01 9.66535433e-01 9.66535433e-01 9.66929134e-01\n",
      " 9.66929134e-01 9.67322835e-01 9.67322835e-01 9.67716535e-01\n",
      " 9.67716535e-01 9.68110236e-01 9.68110236e-01 9.68503937e-01\n",
      " 9.68503937e-01 9.68897638e-01 9.68897638e-01 9.69291339e-01\n",
      " 9.69291339e-01 9.69685039e-01 9.69685039e-01 9.70078740e-01\n",
      " 9.70078740e-01 9.70472441e-01 9.70472441e-01 9.70866142e-01\n",
      " 9.70866142e-01 9.71259843e-01 9.71259843e-01 9.71653543e-01\n",
      " 9.71653543e-01 9.72047244e-01 9.72047244e-01 9.72440945e-01\n",
      " 9.72440945e-01 9.72834646e-01 9.72834646e-01 9.73228346e-01\n",
      " 9.73228346e-01 9.73622047e-01 9.73622047e-01 9.74015748e-01\n",
      " 9.74015748e-01 9.74409449e-01 9.74409449e-01 9.74803150e-01\n",
      " 9.74803150e-01 9.75196850e-01 9.75196850e-01 9.75984252e-01\n",
      " 9.75984252e-01 9.76377953e-01 9.76377953e-01 9.76771654e-01\n",
      " 9.76771654e-01 9.77165354e-01 9.77165354e-01 9.77559055e-01\n",
      " 9.77559055e-01 9.77952756e-01 9.77952756e-01 9.78346457e-01\n",
      " 9.78346457e-01 9.78740157e-01 9.78740157e-01 9.79133858e-01\n",
      " 9.79133858e-01 9.79921260e-01 9.79921260e-01 9.80314961e-01\n",
      " 9.80314961e-01 9.80708661e-01 9.80708661e-01 9.81102362e-01\n",
      " 9.81102362e-01 9.82283465e-01 9.82283465e-01 9.82677165e-01\n",
      " 9.82677165e-01 9.83070866e-01 9.83070866e-01 9.83464567e-01\n",
      " 9.83464567e-01 9.83858268e-01 9.83858268e-01 9.84645669e-01\n",
      " 9.84645669e-01 9.85039370e-01 9.85039370e-01 9.85433071e-01\n",
      " 9.85433071e-01 9.85826772e-01 9.85826772e-01 9.86220472e-01\n",
      " 9.86220472e-01 9.86614173e-01 9.86614173e-01 9.87401575e-01\n",
      " 9.87401575e-01 9.87795276e-01 9.87795276e-01 9.88582677e-01\n",
      " 9.88582677e-01 9.88976378e-01 9.88976378e-01 9.89370079e-01\n",
      " 9.89370079e-01 9.89763780e-01 9.89763780e-01 9.90157480e-01\n",
      " 9.90157480e-01 9.90551181e-01 9.90551181e-01 9.90944882e-01\n",
      " 9.90944882e-01 9.91338583e-01 9.91338583e-01 9.91732283e-01\n",
      " 9.91732283e-01 9.92125984e-01 9.92125984e-01 9.92519685e-01\n",
      " 9.92519685e-01 9.92913386e-01 9.92913386e-01 9.93307087e-01\n",
      " 9.93307087e-01 9.93700787e-01 9.93700787e-01 9.94094488e-01\n",
      " 9.94094488e-01 9.94488189e-01 9.94488189e-01 9.94881890e-01\n",
      " 9.94881890e-01 9.95275591e-01 9.95275591e-01 9.95669291e-01\n",
      " 9.95669291e-01 9.96062992e-01 9.96062992e-01 9.96456693e-01\n",
      " 9.96456693e-01 9.96850394e-01 9.96850394e-01 9.97244094e-01\n",
      " 9.97244094e-01 9.97637795e-01 9.97637795e-01 9.98425197e-01\n",
      " 9.98425197e-01 9.98818898e-01 9.98818898e-01 9.99212598e-01\n",
      " 9.99212598e-01 9.99606299e-01 9.99606299e-01 1.00000000e+00\n",
      " 1.00000000e+00]\n"
     ]
    }
   ],
   "source": [
    "fpr, tpr, thresholds = metrics.roc_curve(y_test, y_predict_prob_lr[:,1], pos_label=1)\n",
    "\n",
    "print(fpr)\n",
    "print(tpr)"
   ]
  },
  {
   "cell_type": "code",
   "execution_count": 64,
   "metadata": {},
   "outputs": [
    {
     "name": "stdout",
     "output_type": "stream",
     "text": [
      "AUC:  0.947281228696691\n"
     ]
    },
    {
     "data": {
      "image/png": "[encoded data removed]",
      "text/plain": [
       "<Figure size 432x288 with 1 Axes>"
      ]
     },
     "metadata": {
      "needs_background": "light"
     },
     "output_type": "display_data"
    }
   ],
   "source": [
    "AUC_logreg = metrics.auc(fpr, tpr)\n",
    "\n",
    "print(\"AUC: \", AUC_logreg)\n",
    "\n",
    "plt.figure()\n",
    "\n",
    "plt.plot(fpr, tpr, color='red', lw=2, label='ROC Curve (area = %0.2f)' % AUC_logreg)\n",
    "plt.plot([0, 1], [0, 1], color='blue', lw=1, linestyle='--')\n",
    "\n",
    "plt.xlim([-0.005, 1.005])\n",
    "plt.ylim([0, 1.01])\n",
    "\n",
    "plt.xlabel('False Positive Rate')\n",
    "plt.ylabel('True Positive Rate')\n",
    "plt.title('Receiver Operating Characteristic')\n",
    "plt.legend(loc='lower right')\n",
    "\n",
    "plt.show()"
   ]
  },
  {
   "cell_type": "markdown",
   "metadata": {},
   "source": [
    "### Linear Regression"
   ]
  },
  {
   "cell_type": "markdown",
   "metadata": {},
   "source": [
    "<p>Using Linear Regression on the training set. Checking the coefficent's of the model to find the most to least important.</p>"
   ]
  },
  {
   "cell_type": "code",
   "execution_count": 65,
   "metadata": {},
   "outputs": [
    {
     "name": "stdout",
     "output_type": "stream",
     "text": [
      "Coefficients in Descending Order:\n",
      "CULEX ERRATICUS\t\t0.7780750270693361\n",
      "CULEX RESTUANS\t\t0.6427840928812135\n",
      "CULEX SALINARIUS\t\t0.6379708103377716\n",
      "CULEX TERRITANS\t\t0.624361469356632\n",
      "CULEX TARSALIS\t\t0.5882379029960064\n",
      "CULEX PIPIENS/RESTUANS\t\t0.4774463663916712\n",
      "Longitude   \t\t0.42315445607475677\n",
      "CULEX PIPIENS\t\t0.3790556231458993\n",
      "Station 2   \t\t0.30768020929441586\n",
      "Station 1   \t\t0.29682882346247774\n",
      "Latitude    \t\t0.15734803473692993\n",
      "<= 730 days \t\t0.12321438291169169\n",
      "> 5 miles   \t\t0.12321438291156438\n",
      "<= 3 miles  \t\t0.11795200241701624\n",
      "<= 1 mile   \t\t0.06799557742815118\n",
      "PrecipTotal \t\t0.06689015963736396\n",
      "<= 1/2 mile \t\t0.04816064059668605\n",
      "<= 5 miles  \t\t0.040298302021965555\n",
      "<= 183 days \t\t0.03101938632224314\n",
      "<= 365 days \t\t0.031019386322079758\n",
      "<= 90 days  \t\t0.031019386321846358\n",
      "SeaLevel    \t\t0.02770646632632314\n",
      "AvgSpeed    \t\t0.01868955694497872\n",
      "DewPoint    \t\t0.01110038485704602\n",
      "NumMosquitos\t\t0.009070557519945618\n",
      "Depart      \t\t0.00816624661187031\n",
      "Heat        \t\t0.005998396901029812\n",
      "Tmax        \t\t0.005899558613308459\n",
      "StnPressure \t\t0.004839092961982247\n",
      "Tavg        \t\t0.004829591991196037\n",
      "WetBulb     \t\t0.004645096574851569\n",
      "ResultSpeed \t\t0.0028985598610240587\n",
      "ResultDir   \t\t0.0017392152021399577\n",
      "Cool        \t\t0.0011688049098515878\n",
      "Tmin        \t\t0.001040658510275341\n",
      "Trap        \t\t0.00020344256276234952\n",
      "Date Ordinal\t\t3.561463257760725e-05\n",
      "> 730 days  \t\t6.097899962753672e-14\n",
      "Depth       \t\t9.43689570931383e-16\n",
      "\n",
      "\n",
      "Most Important Feature:  CULEX ERRATICUS\n",
      "Least Important Feature:  Depth\n"
     ]
    }
   ],
   "source": [
    "#create classifier\n",
    "my_linreg = LinearRegression()\n",
    "\n",
    "#train\n",
    "my_linreg.fit(X_train, y_train)\n",
    "\n",
    "#check coefficients, numbers need to be absolute to determin best/worst\n",
    "coefficients = abs(my_linreg.coef_)\n",
    "\n",
    "#create tuple list of feature/coefficient pairings and sort by coefficient by descending order\n",
    "name_coefficient_tuples = list(zip(X_resampled.columns, coefficients))\n",
    "name_coefficient_tuples.sort(key = operator.itemgetter(1), reverse=True)\n",
    "\n",
    "print(\"Coefficients in Descending Order:\")\n",
    "\n",
    "for a,b in name_coefficient_tuples:\n",
    "    print(\"{:<12}\\t\\t{}\".format(a,b))\n",
    "    \n",
    "#print most and least important\n",
    "print(\"\\n\\nMost Important Feature: \", name_coefficient_tuples[0][0])\n",
    "print(\"Least Important Feature: \", name_coefficient_tuples[-1][0])"
   ]
  },
  {
   "cell_type": "code",
   "execution_count": 66,
   "metadata": {},
   "outputs": [
    {
     "data": {
      "image/png": "[encoded data removed]",
      "text/plain": [
       "<Figure size 1440x720 with 1 Axes>"
      ]
     },
     "metadata": {
      "needs_background": "light"
     },
     "output_type": "display_data"
    }
   ],
   "source": [
    "plt.figure(figsize=(20,10))\n",
    "\n",
    "#x-axis tick range\n",
    "x_values = range(1, len(X_resampled.columns) + 1)\n",
    "\n",
    "#plotting x and y-axis graph markers\n",
    "line_x = plt.plot(X_resampled.columns, coefficients, color= 'green', linestyle = '--', linewidth = 1, marker='o',\n",
    "                   markerfacecolor = 'blue', markersize = 5, label ='Coefficient Value')\n",
    "\n",
    "plt.legend(line_x)\n",
    "\n",
    "y_pos = np.arange(len(coefficients))\n",
    "\n",
    "plt.xticks(y_pos, X_resampled.columns, rotation='vertical')\n",
    "\n",
    "#x-axis title\n",
    "plt.xlabel('Name')\n",
    "\n",
    "#y-axis title \n",
    "plt.ylabel('Value') \n",
    "  \n",
    "#graph title\n",
    "plt.title('Linear Regression Coefficients')\n",
    "plt.show()"
   ]
  },
  {
   "cell_type": "markdown",
   "metadata": {},
   "source": [
    "<p>Predict “balance” for the users in testing set. Then, compare the predicted balance with the actual balance by calculating and reporting the RMSE.</p>"
   ]
  },
  {
   "cell_type": "code",
   "execution_count": 67,
   "metadata": {},
   "outputs": [
    {
     "name": "stdout",
     "output_type": "stream",
     "text": [
      "RMSE:  0.32268651959436845\n"
     ]
    }
   ],
   "source": [
    "#make prediction from testing data\n",
    "y_prediction = my_linreg.predict(X_test)\n",
    "\n",
    "#calculating mean square error (MSE)\n",
    "mse = metrics.mean_squared_error(y_test, y_prediction)\n",
    "\n",
    "#RMSE calculation\n",
    "rmse = np.sqrt(mse)\n",
    "\n",
    "#print RMSE\n",
    "print(\"RMSE: \", rmse)"
   ]
  },
  {
   "cell_type": "markdown",
   "metadata": {},
   "source": [
    "<p>Use 10-fold Cross-Validation to evaluate the performance of a linear regression in\n",
    "predicting. Thus, rather than splitting the dataset into testing and training,\n",
    "use Cross-Validation to evaluate the regression performance.</p>"
   ]
  },
  {
   "cell_type": "code",
   "execution_count": 68,
   "metadata": {},
   "outputs": [
    {
     "name": "stdout",
     "output_type": "stream",
     "text": [
      "RMSE List:  [0.0234459  0.03094511 0.03076488 0.03888524 0.03912237 0.04308658\n",
      " 0.19455377 0.1846847  0.1995013  0.14055864 0.18112632 0.18717608\n",
      " 0.2574133  0.13418507 0.3977217  0.33753092 0.33221068 0.40156324\n",
      " 0.35307266 0.43601692 0.35213662 0.33596215 0.28383588 0.22695\n",
      " 0.19310881 0.0445871  0.12883807 0.06280617 0.0781844  0.14855879\n",
      " 0.03997379 0.05147212 0.06513597 0.05935479 0.05751353 2.21565397\n",
      " 0.0481454  0.06421232 0.07088123 0.06143126 0.05625665 0.18460939\n",
      " 0.05756188 0.09775059 0.0549033  0.10550976 0.21379027 0.15568319\n",
      " 0.18498838 0.11115066 0.12023688 0.06646234 0.02568797 0.05531652\n",
      " 0.04324085 0.05998314 0.07824555 0.10448123 0.0810964  0.05768985\n",
      " 0.17034569 0.11767314 0.26399815 0.2223132  0.0409844  0.32117006\n",
      " 0.16518719 0.18134426 0.21428703 0.22799975 0.18680595 0.14787348\n",
      " 0.26280343 0.10444188 0.05130272 0.06010075 0.06398893 0.07791801\n",
      " 0.11803963 0.14294874 0.16971875 0.24550286 0.27578573 0.23070779\n",
      " 0.20149848 0.14222587 0.30534311 0.33513264 0.32815766 0.37784092\n",
      " 0.29264459 0.42854998 0.29734997 0.49445368 0.40659027 0.38719936\n",
      " 0.35849896 0.38602154 0.24127539 0.21081951]\n",
      "\n",
      "RMSE Cross-Validation:  0.19703795977781324\n"
     ]
    }
   ],
   "source": [
    "mse_list = cross_val_score(my_linreg, X, y, cv= 100, scoring='neg_mean_squared_error')\n",
    "rmse_list = np.sqrt(abs(mse_list))\n",
    "\n",
    "print(\"RMSE List: \", rmse_list)\n",
    "print(\"\\nRMSE Cross-Validation: \", rmse_list.mean())"
   ]
  },
  {
   "cell_type": "code",
   "execution_count": 69,
   "metadata": {
    "scrolled": true
   },
   "outputs": [
    {
     "data": {
      "image/png": "[encoded data removed]",
      "text/plain": [
       "<Figure size 1440x360 with 1 Axes>"
      ]
     },
     "metadata": {
      "needs_background": "light"
     },
     "output_type": "display_data"
    }
   ],
   "source": [
    "plt.figure(figsize=(20,5))\n",
    "\n",
    "#x-axis tick range\n",
    "x_values = range(1, len(rmse_list) + 1)\n",
    "\n",
    "mean_values = [rmse_list.mean()] * len(rmse_list)\n",
    "\n",
    "#plotting x and y-axis graph markers\n",
    "line, = plt.plot(x_values, rmse_list, color= 'blue', linestyle = '--', linewidth = 1, marker='o', markerfacecolor = 'blue', markersize = 5, label ='All Features')\n",
    "line_mean, = plt.plot(x_values, mean_values, color= 'red', linestyle = '-', linewidth = 1, label ='RMSE Cross-Validation')\n",
    "\n",
    "plt.legend(handles = [line, line_mean])\n",
    "\n",
    "#x-axis title\n",
    "plt.xlabel('Cross Validation Folds')\n",
    "\n",
    "#y-axis title \n",
    "plt.ylabel('RMSE') \n",
    "  \n",
    "#graph title\n",
    "plt.title('Linear Regression with 100 Features')\n",
    "plt.show()"
   ]
  },
  {
   "cell_type": "markdown",
   "metadata": {},
   "source": [
    "### Decision Tree"
   ]
  },
  {
   "cell_type": "code",
   "execution_count": 70,
   "metadata": {},
   "outputs": [
    {
     "name": "stdout",
     "output_type": "stream",
     "text": [
      "[0 1 1 ... 0 1 1]\n"
     ]
    }
   ],
   "source": [
    "my_decisiontree = DecisionTreeClassifier()\n",
    "\n",
    "my_decisiontree.fit(X_train, y_train)\n",
    "\n",
    "y_predict_dt = my_decisiontree.predict(X_test)\n",
    "\n",
    "print(y_predict_dt)"
   ]
  },
  {
   "cell_type": "code",
   "execution_count": 71,
   "metadata": {},
   "outputs": [
    {
     "name": "stdout",
     "output_type": "stream",
     "text": [
      "Accuracy : 0.9450375642546461\n"
     ]
    }
   ],
   "source": [
    "score_dt = accuracy_score(y_test, y_predict_dt)\n",
    "\n",
    "print(\"Accuracy :\", score_dt)"
   ]
  },
  {
   "cell_type": "markdown",
   "metadata": {},
   "source": [
    "<p>Let's see if bagging will produce an accuracy different from one decision tree.</p>\n",
    "\n",
    "<p>Errors given when n_samples are greater than 79:<br><li>---> 17 accuracy = accuracy_score(y_test, voting)</li><li>ValueError: Input contains NaN, infinity or a value too large for dtype('float64').</li></p>\n",
    "\n",
    "<p>Why is it that when we use 20 Decision Trees, the voting dataframe has two columns. One column with actual vote data and the other with 'Nan'?</p>  "
   ]
  },
  {
   "cell_type": "code",
   "execution_count": 72,
   "metadata": {},
   "outputs": [
    {
     "data": {
      "text/html": [
       "<div>\n",
       "<style scoped>\n",
       "    .dataframe tbody tr th:only-of-type {\n",
       "        vertical-align: middle;\n",
       "    }\n",
       "\n",
       "    .dataframe tbody tr th {\n",
       "        vertical-align: top;\n",
       "    }\n",
       "\n",
       "    .dataframe thead th {\n",
       "        text-align: right;\n",
       "    }\n",
       "</style>\n",
       "<table border=\"1\" class=\"dataframe\">\n",
       "  <thead>\n",
       "    <tr style=\"text-align: right;\">\n",
       "      <th></th>\n",
       "      <th>0</th>\n",
       "    </tr>\n",
       "  </thead>\n",
       "  <tbody>\n",
       "    <tr>\n",
       "      <td>0</td>\n",
       "      <td>0</td>\n",
       "    </tr>\n",
       "    <tr>\n",
       "      <td>1</td>\n",
       "      <td>1</td>\n",
       "    </tr>\n",
       "    <tr>\n",
       "      <td>2</td>\n",
       "      <td>1</td>\n",
       "    </tr>\n",
       "    <tr>\n",
       "      <td>3</td>\n",
       "      <td>1</td>\n",
       "    </tr>\n",
       "    <tr>\n",
       "      <td>4</td>\n",
       "      <td>1</td>\n",
       "    </tr>\n",
       "    <tr>\n",
       "      <td>...</td>\n",
       "      <td>...</td>\n",
       "    </tr>\n",
       "    <tr>\n",
       "      <td>5053</td>\n",
       "      <td>1</td>\n",
       "    </tr>\n",
       "    <tr>\n",
       "      <td>5054</td>\n",
       "      <td>1</td>\n",
       "    </tr>\n",
       "    <tr>\n",
       "      <td>5055</td>\n",
       "      <td>0</td>\n",
       "    </tr>\n",
       "    <tr>\n",
       "      <td>5056</td>\n",
       "      <td>1</td>\n",
       "    </tr>\n",
       "    <tr>\n",
       "      <td>5057</td>\n",
       "      <td>1</td>\n",
       "    </tr>\n",
       "  </tbody>\n",
       "</table>\n",
       "<p>5058 rows × 1 columns</p>\n",
       "</div>"
      ],
      "text/plain": [
       "      0\n",
       "0     0\n",
       "1     1\n",
       "2     1\n",
       "3     1\n",
       "4     1\n",
       "...  ..\n",
       "5053  1\n",
       "5054  1\n",
       "5055  0\n",
       "5056  1\n",
       "5057  1\n",
       "\n",
       "[5058 rows x 1 columns]"
      ]
     },
     "metadata": {},
     "output_type": "display_data"
    },
    {
     "name": "stdout",
     "output_type": "stream",
     "text": [
      "bootstrap size:  9440\n",
      "Accuracy:  0.9622380387504943\n"
     ]
    }
   ],
   "source": [
    "bootstrap_size = int(0.8 * len(X_train))\n",
    "predictions = pd.DataFrame()\n",
    "Base_DecisionTree = DecisionTreeClassifier(random_state = 3)\n",
    "\n",
    "for i in range(19):\n",
    "    X_train_i, y_train_i = resample(X_train, y_train, n_samples=bootstrap_size, random_state=i, replace=True)\n",
    "    Base_DecisionTree.fit(X_train_i, y_train_i)\n",
    "    predictions[i] = Base_DecisionTree.predict(X_test)\n",
    "\n",
    "#each column in predictions database is an individual tree with the column being its label outputs\n",
    "\n",
    "voting = predictions.mode(axis=1)\n",
    "\n",
    "display(voting)\n",
    "\n",
    "# vote and compare against y_test\n",
    "# https://pandas.pydata.org/pandas-docs/stable/reference/api/pandas.DataFrame.mode.html (reference)\n",
    "score_bagging = accuracy_score(y_test, voting)\n",
    "\n",
    "accuracy_list.append(('Bagging', score_bagging))\n",
    "\n",
    "print(\"bootstrap size: \", bootstrap_size)\n",
    "\n",
    "print(\"Accuracy: \", score_bagging)"
   ]
  },
  {
   "cell_type": "markdown",
   "metadata": {},
   "source": [
    "### Random Forest"
   ]
  },
  {
   "cell_type": "markdown",
   "metadata": {},
   "source": [
    "<li>For n_estimators = 19 ---> 0.9373828271466067</li>\n",
    "<li>For n_estimators = 20 ---> 0.9400074990626172</li>"
   ]
  },
  {
   "cell_type": "code",
   "execution_count": 73,
   "metadata": {},
   "outputs": [
    {
     "name": "stdout",
     "output_type": "stream",
     "text": [
      "Accuracy:  0.9677738236457097\n"
     ]
    }
   ],
   "source": [
    "my_RandomForest = RandomForestClassifier(n_estimators=bootstrap_size, bootstrap=True, random_state=3)\n",
    "\n",
    "my_RandomForest.fit(X_train, y_train)\n",
    "\n",
    "y_predict_rf = my_RandomForest.predict(X_test)\n",
    "\n",
    "score_rf = accuracy_score(y_test, y_predict_rf)\n",
    "\n",
    "accuracy_list.append(('Random Forest', score_rf))\n",
    "\n",
    "print('Accuracy: ', score_rf)"
   ]
  },
  {
   "cell_type": "markdown",
   "metadata": {},
   "source": [
    "### KNN"
   ]
  },
  {
   "cell_type": "code",
   "execution_count": 74,
   "metadata": {},
   "outputs": [
    {
     "name": "stdout",
     "output_type": "stream",
     "text": [
      "Accuracy:  0.49782522736259394\n"
     ]
    }
   ],
   "source": [
    "k = len(X_train)\n",
    "my_knn = KNeighborsClassifier(n_neighbors=k)\n",
    "my_knn.fit(X_train, y_train)\n",
    "y_predict = my_knn.predict(X_test)\n",
    "\n",
    "accuracy = accuracy_score(y_test, y_predict)\n",
    "print(\"Accuracy: \", accuracy)"
   ]
  },
  {
   "cell_type": "markdown",
   "metadata": {},
   "source": [
    "<p>Check the value counts for test to see if we have unbalanced problem like before. Looks like no.</p>"
   ]
  },
  {
   "cell_type": "code",
   "execution_count": 75,
   "metadata": {},
   "outputs": [
    {
     "data": {
      "text/plain": [
       "1    2540\n",
       "0    2518\n",
       "Name: WnvPresent, dtype: int64"
      ]
     },
     "execution_count": 75,
     "metadata": {},
     "output_type": "execute_result"
    }
   ],
   "source": [
    "y_test.value_counts()"
   ]
  },
  {
   "cell_type": "code",
   "execution_count": 76,
   "metadata": {},
   "outputs": [
    {
     "name": "stdout",
     "output_type": "stream",
     "text": [
      "[0.9406880189798339, 0.8167259786476868, 0.7694741004349546, 0.6979043100039541, 0.6526294978252274, 0.6466982997232108, 0.6466982997232108, 0.6186239620403321, 0.49782522736259394]\n"
     ]
    }
   ],
   "source": [
    "k_list = [1, 100, 500, 1000, 2000, 3000, 4000, 5000, len(X_train)]\n",
    "accuracy_list_knn = []\n",
    "\n",
    "for k in k_list:\n",
    "    my_knn = KNeighborsClassifier(n_neighbors=k)\n",
    "    my_knn.fit(X_train, y_train)\n",
    "    y_predict = my_knn.predict(X_test)\n",
    "    accuracy = accuracy_score(y_test, y_predict)\n",
    "    accuracy_list_knn.append(accuracy)\n",
    "    \n",
    "print(accuracy_list_knn)"
   ]
  },
  {
   "cell_type": "code",
   "execution_count": 77,
   "metadata": {},
   "outputs": [
    {
     "data": {
      "text/html": [
       "<div>\n",
       "<style scoped>\n",
       "    .dataframe tbody tr th:only-of-type {\n",
       "        vertical-align: middle;\n",
       "    }\n",
       "\n",
       "    .dataframe tbody tr th {\n",
       "        vertical-align: top;\n",
       "    }\n",
       "\n",
       "    .dataframe thead th {\n",
       "        text-align: right;\n",
       "    }\n",
       "</style>\n",
       "<table border=\"1\" class=\"dataframe\">\n",
       "  <thead>\n",
       "    <tr style=\"text-align: right;\">\n",
       "      <th></th>\n",
       "      <th>k</th>\n",
       "      <th>Accuracy</th>\n",
       "    </tr>\n",
       "  </thead>\n",
       "  <tbody>\n",
       "    <tr>\n",
       "      <td>0</td>\n",
       "      <td>1</td>\n",
       "      <td>0.940688</td>\n",
       "    </tr>\n",
       "    <tr>\n",
       "      <td>1</td>\n",
       "      <td>100</td>\n",
       "      <td>0.816726</td>\n",
       "    </tr>\n",
       "    <tr>\n",
       "      <td>2</td>\n",
       "      <td>500</td>\n",
       "      <td>0.769474</td>\n",
       "    </tr>\n",
       "    <tr>\n",
       "      <td>3</td>\n",
       "      <td>1000</td>\n",
       "      <td>0.697904</td>\n",
       "    </tr>\n",
       "    <tr>\n",
       "      <td>4</td>\n",
       "      <td>2000</td>\n",
       "      <td>0.652629</td>\n",
       "    </tr>\n",
       "    <tr>\n",
       "      <td>5</td>\n",
       "      <td>3000</td>\n",
       "      <td>0.646698</td>\n",
       "    </tr>\n",
       "    <tr>\n",
       "      <td>6</td>\n",
       "      <td>4000</td>\n",
       "      <td>0.646698</td>\n",
       "    </tr>\n",
       "    <tr>\n",
       "      <td>7</td>\n",
       "      <td>5000</td>\n",
       "      <td>0.618624</td>\n",
       "    </tr>\n",
       "    <tr>\n",
       "      <td>8</td>\n",
       "      <td>11800</td>\n",
       "      <td>0.497825</td>\n",
       "    </tr>\n",
       "  </tbody>\n",
       "</table>\n",
       "</div>"
      ],
      "text/plain": [
       "       k  Accuracy\n",
       "0      1  0.940688\n",
       "1    100  0.816726\n",
       "2    500  0.769474\n",
       "3   1000  0.697904\n",
       "4   2000  0.652629\n",
       "5   3000  0.646698\n",
       "6   4000  0.646698\n",
       "7   5000  0.618624\n",
       "8  11800  0.497825"
      ]
     },
     "metadata": {},
     "output_type": "display_data"
    },
    {
     "data": {
      "image/png": "[encoded data removed]",
      "text/plain": [
       "<Figure size 432x288 with 1 Axes>"
      ]
     },
     "metadata": {
      "needs_background": "light"
     },
     "output_type": "display_data"
    }
   ],
   "source": [
    "k_df = pd.DataFrame({\n",
    "    'k': k_list,\n",
    "    'Accuracy': accuracy_list_knn\n",
    "})\n",
    "\n",
    "#A list of positions at which ticks should be placed. You can pass an empty list to disable xticks.\n",
    "ticks = [i for i in range(len(k_list))] \n",
    "\n",
    "plt.plot(ticks, accuracy_list_knn, marker='o') #plotting x and y-axis graph markers\n",
    "plt.xticks(ticks, k_list) #plotting each k neighbor onto its respective x-axis marker\n",
    "plt.title('Accuracy for each K Neighbor')\n",
    "plt.xlabel('k')\n",
    "plt.ylabel('Accuracy')\n",
    "\n",
    "display(k_df.nlargest(len(accuracy_list_knn), ['Accuracy']))\n",
    "plt.show()"
   ]
  },
  {
   "cell_type": "markdown",
   "metadata": {},
   "source": [
    "### Let's compare accuracies from classifying ML:"
   ]
  },
  {
   "cell_type": "code",
   "execution_count": 78,
   "metadata": {},
   "outputs": [],
   "source": [
    "classifier = []\n",
    "class_accuracy = []\n",
    "\n",
    "for i in range(len(accuracy_list)):\n",
    "    name, value = accuracy_list[i]\n",
    "    classifier.append(name)\n",
    "    class_accuracy.append(value)"
   ]
  },
  {
   "cell_type": "code",
   "execution_count": 79,
   "metadata": {},
   "outputs": [
    {
     "data": {
      "text/plain": [
       "dtype('float64')"
      ]
     },
     "execution_count": 79,
     "metadata": {},
     "output_type": "execute_result"
    }
   ],
   "source": [
    "class_accuracy[0].dtype"
   ]
  },
  {
   "cell_type": "code",
   "execution_count": 80,
   "metadata": {},
   "outputs": [
    {
     "data": {
      "text/html": [
       "<div>\n",
       "<style scoped>\n",
       "    .dataframe tbody tr th:only-of-type {\n",
       "        vertical-align: middle;\n",
       "    }\n",
       "\n",
       "    .dataframe tbody tr th {\n",
       "        vertical-align: top;\n",
       "    }\n",
       "\n",
       "    .dataframe thead th {\n",
       "        text-align: right;\n",
       "    }\n",
       "</style>\n",
       "<table border=\"1\" class=\"dataframe\">\n",
       "  <thead>\n",
       "    <tr style=\"text-align: right;\">\n",
       "      <th></th>\n",
       "      <th>Classifier</th>\n",
       "      <th>Accuracy</th>\n",
       "    </tr>\n",
       "  </thead>\n",
       "  <tbody>\n",
       "    <tr>\n",
       "      <td>2</td>\n",
       "      <td>Random Forest</td>\n",
       "      <td>0.967774</td>\n",
       "    </tr>\n",
       "    <tr>\n",
       "      <td>1</td>\n",
       "      <td>Bagging</td>\n",
       "      <td>0.962238</td>\n",
       "    </tr>\n",
       "    <tr>\n",
       "      <td>0</td>\n",
       "      <td>Logistic Regression</td>\n",
       "      <td>0.878608</td>\n",
       "    </tr>\n",
       "  </tbody>\n",
       "</table>\n",
       "</div>"
      ],
      "text/plain": [
       "            Classifier  Accuracy\n",
       "2        Random Forest  0.967774\n",
       "1              Bagging  0.962238\n",
       "0  Logistic Regression  0.878608"
      ]
     },
     "metadata": {},
     "output_type": "display_data"
    },
    {
     "data": {
      "image/png": "[encoded data removed]",
      "text/plain": [
       "<Figure size 720x720 with 1 Axes>"
      ]
     },
     "metadata": {
      "needs_background": "light"
     },
     "output_type": "display_data"
    }
   ],
   "source": [
    "df = pd.DataFrame({\n",
    "    'Classifier': classifier,\n",
    "    'Accuracy': class_accuracy\n",
    "})\n",
    "\n",
    "df = df.nlargest(len(class_accuracy), ['Accuracy'])\n",
    "\n",
    "display(df)\n",
    "\n",
    "plt.figure(figsize=(10,10))\n",
    "\n",
    "x_labels = classifier\n",
    "y_pos = np.arange(len(x_labels))\n",
    "\n",
    "plt.bar(y_pos, class_accuracy, color='gray')\n",
    "plt.xticks(y_pos, x_labels, rotation='vertical')\n",
    "plt.title('Accuracy for 3 Classifiers')\n",
    "plt.xlabel('Classifier')\n",
    "plt.ylabel('Accuracy')\n",
    "plt.show()"
   ]
  },
  {
   "cell_type": "code",
   "execution_count": null,
   "metadata": {},
   "outputs": [],
   "source": []
  }
 ],
 "metadata": {
  "kernelspec": {
   "display_name": "Python 3",
   "language": "python",
   "name": "python3"
  },
  "language_info": {
   "codemirror_mode": {
    "name": "ipython",
    "version": 3
   },
   "file_extension": ".py",
   "mimetype": "text/x-python",
   "name": "python",
   "nbconvert_exporter": "python",
   "pygments_lexer": "ipython3",
   "version": "3.7.3"
  }
 },
 "nbformat": 4,
 "nbformat_minor": 2
}
